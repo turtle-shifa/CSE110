{
  "nbformat": 4,
  "nbformat_minor": 0,
  "metadata": {
    "colab": {
      "provenance": [],
      "authorship_tag": "ABX9TyM5e1LZJ9ETK0qeXrdU9AFt",
      "include_colab_link": true
    },
    "kernelspec": {
      "name": "python3",
      "display_name": "Python 3"
    },
    "language_info": {
      "name": "python"
    }
  },
  "cells": [
    {
      "cell_type": "markdown",
      "metadata": {
        "id": "view-in-github",
        "colab_type": "text"
      },
      "source": [
        "<a href=\"https://colab.research.google.com/github/turtle-shifa/CSE110/blob/main/Lab03.ipynb\" target=\"_parent\"><img src=\"https://colab.research.google.com/assets/colab-badge.svg\" alt=\"Open In Colab\"/></a>"
      ]
    },
    {
      "cell_type": "code",
      "execution_count": null,
      "metadata": {
        "colab": {
          "base_uri": "https://localhost:8080/"
        },
        "id": "ARvAMSEoajrw",
        "outputId": "a99ffadc-8135-4b0d-a41e-994eb6228371"
      },
      "outputs": [
        {
          "output_type": "stream",
          "name": "stdout",
          "text": [
            "Dream\n",
            "D\n",
            "Dr\n",
            "Dre\n",
            "Drea\n",
            "Dream\n"
          ]
        }
      ],
      "source": [
        "#1\n",
        "user = input()\n",
        "output = \"\"\n",
        "for i in user:\n",
        "  output+=i\n",
        "  print(output)"
      ]
    },
    {
      "cell_type": "code",
      "source": [
        "#1 Alternative\n",
        "user = input()\n",
        "for i in range(len(user)):\n",
        "  print(user[:i+1])"
      ],
      "metadata": {
        "colab": {
          "base_uri": "https://localhost:8080/"
        },
        "id": "T0yHsKlUa7PF",
        "outputId": "1ead7401-d5d4-4e5b-9ca6-10390bed2045"
      },
      "execution_count": null,
      "outputs": [
        {
          "output_type": "stream",
          "name": "stdout",
          "text": [
            "DREAM\n",
            "D\n",
            "DR\n",
            "DRE\n",
            "DREA\n",
            "DREAM\n"
          ]
        }
      ]
    },
    {
      "cell_type": "code",
      "source": [
        "#2\n",
        "user = input()\n",
        "output = user\n",
        "if len(user)<4:\n",
        "  pass\n",
        "elif len(user)>3:\n",
        "  if user[len(user)-2:len(user)] == \"er\":\n",
        "    output = output[0:len(user)-2]+\"est\"\n",
        "  elif user[len(user)-3:len(user)] == \"est\":\n",
        "    pass\n",
        "  else:\n",
        "    output+=\"er\"\n",
        "print(output)"
      ],
      "metadata": {
        "id": "3eAOb_Wobcvc",
        "colab": {
          "base_uri": "https://localhost:8080/"
        },
        "outputId": "0df5eb61-2a3e-4e25-9909-411677427313"
      },
      "execution_count": null,
      "outputs": [
        {
          "output_type": "stream",
          "name": "stdout",
          "text": [
            "Weaker\n",
            "Weakest\n"
          ]
        }
      ]
    },
    {
      "cell_type": "code",
      "source": [
        "#3\n",
        "user = input()\n",
        "#Programming\n",
        "for i in user:\n",
        "  print(f\"{i} : {ord(i)}\")"
      ],
      "metadata": {
        "colab": {
          "base_uri": "https://localhost:8080/"
        },
        "id": "SQMSvucTpPBQ",
        "outputId": "6f9a8d3f-5244-4589-8a85-f0361db52093"
      },
      "execution_count": null,
      "outputs": [
        {
          "output_type": "stream",
          "name": "stdout",
          "text": [
            "Programming\n",
            "P : 80\n",
            "r : 114\n",
            "o : 111\n",
            "g : 103\n",
            "r : 114\n",
            "a : 97\n",
            "m : 109\n",
            "m : 109\n",
            "i : 105\n",
            "n : 110\n",
            "g : 103\n"
          ]
        }
      ]
    },
    {
      "cell_type": "code",
      "source": [
        "#4\n",
        "user = input()\n",
        "output = \"\"\n",
        "for i in user:\n",
        "  if ord(i) == 122:\n",
        "    output+=\"a\"\n",
        "  else:\n",
        "    ini_ord = ord(i)+1\n",
        "    output+=chr(ini_ord)\n",
        "print(output)"
      ],
      "metadata": {
        "colab": {
          "base_uri": "https://localhost:8080/"
        },
        "id": "BxSafYvrLKDx",
        "outputId": "f6d4d660-8e7e-4118-a63f-cbf1ee83a869"
      },
      "execution_count": null,
      "outputs": [
        {
          "output_type": "stream",
          "name": "stdout",
          "text": [
            "xyzabc\n",
            "yzabcd\n"
          ]
        }
      ]
    },
    {
      "cell_type": "code",
      "source": [
        "#5\n",
        "str_1 = input()\n",
        "str_2 = input()\n",
        "output = \"\"\n",
        "ini = 0\n",
        "if len(str_1)>=len(str_2):\n",
        "  for i in range(len(str_1)):\n",
        "    output+=str_1[i]\n",
        "    for j in range(i,i+1,1):\n",
        "      if ini<len(str_2):\n",
        "        output+=str_2[j]\n",
        "      ini+=1\n",
        "else:\n",
        "  for i in range(len(str_2)):\n",
        "    for j in range(i,i+1,1):\n",
        "      if ini<len(str_1):\n",
        "        output+=str_1[j]\n",
        "      ini+=1\n",
        "    output+=str_2[i]\n",
        "print(output)"
      ],
      "metadata": {
        "colab": {
          "base_uri": "https://localhost:8080/"
        },
        "id": "mdssteSoL9R_",
        "outputId": "d2003da7-596d-4686-a6b9-f48ee4b8663b"
      },
      "execution_count": null,
      "outputs": [
        {
          "output_type": "stream",
          "name": "stdout",
          "text": [
            "ijkl\n",
            "ABCDENDFGH\n",
            "iAjBkClDENDFGH\n"
          ]
        }
      ]
    },
    {
      "cell_type": "code",
      "source": [
        "#5 Alternative\n",
        "str_1 = input()\n",
        "str_2 = input()\n",
        "if len(str_1)>=len(str_2):\n",
        "  for i in range(len(str_2)):\n",
        "    print(str_1[i]+str_2[i],end=\"\")\n",
        "  print(str_1[len(str_2):len(str_1):1])\n",
        "else:\n",
        "  for i in range(len(str_1)):\n",
        "    print(str_1[i]+str_2[i],end=\"\")\n",
        "  print(str_2[len(str_1):len(str_2):1])"
      ],
      "metadata": {
        "colab": {
          "base_uri": "https://localhost:8080/"
        },
        "id": "PJu2f9rIDvmR",
        "outputId": "c75f4f22-fc85-4aeb-8c25-b8c5c437001b"
      },
      "execution_count": null,
      "outputs": [
        {
          "output_type": "stream",
          "name": "stdout",
          "text": [
            "ijkl\n",
            "ABCD\n",
            "iAjBkClD\n"
          ]
        }
      ]
    },
    {
      "cell_type": "code",
      "source": [
        "#6\n",
        "user = input() #AAABBBBCDDBBECE\n",
        "for i in range(len(user)):\n",
        "  if i<(len(user)-1):\n",
        "    if user[i] != user[i+1]:\n",
        "      print(user[i],end=\"\")\n",
        "  else:\n",
        "    if user[len(user)-1] != user[len(user)-2]:\n",
        "      print(user[len(user)-1])"
      ],
      "metadata": {
        "colab": {
          "base_uri": "https://localhost:8080/"
        },
        "id": "gJxPYpucPTVh",
        "outputId": "8d8c6363-0276-46cd-8511-2805f41298b1"
      },
      "execution_count": null,
      "outputs": [
        {
          "output_type": "stream",
          "name": "stdout",
          "text": [
            "AAVVCDGGAAAADA\n",
            "AVCDGADA\n"
          ]
        }
      ]
    },
    {
      "cell_type": "code",
      "source": [
        "#7\n",
        "user = input() #81427\n",
        "index = int(input()) #3\n",
        "for i in range(index,-1,-1):\n",
        "  print(user[i],end=\"\")\n",
        "print(user[index+1::])"
      ],
      "metadata": {
        "colab": {
          "base_uri": "https://localhost:8080/"
        },
        "id": "wz5Rrfpszz6x",
        "outputId": "3f17a53a-89b4-4157-e730-089afb98fe22"
      },
      "execution_count": null,
      "outputs": [
        {
          "output_type": "stream",
          "name": "stdout",
          "text": [
            "aBcd1234defg\n",
            "5\n",
            "21dcBa34defg\n"
          ]
        }
      ]
    },
    {
      "cell_type": "code",
      "source": [
        "#7 Alternative\n",
        "user = input()\n",
        "index = int(input())\n",
        "print(user[index::-1]+user[index+1::])"
      ],
      "metadata": {
        "colab": {
          "base_uri": "https://localhost:8080/"
        },
        "id": "qFyAO2VV3TtQ",
        "outputId": "1d6c9844-e94f-4b59-d48b-94b4b4558453"
      },
      "execution_count": null,
      "outputs": [
        {
          "output_type": "stream",
          "name": "stdout",
          "text": [
            "aBcd1234defg\n",
            "5\n",
            "21dcBa34defg\n"
          ]
        }
      ]
    },
    {
      "cell_type": "code",
      "source": [
        "#8\n",
        "user = input() #This-is-CSE110\n",
        "split = input() #-\n",
        "output = \"\"\n",
        "for i in range(len(user)):\n",
        "  if user[i] != split:\n",
        "    output+=user[i]\n",
        "  else:\n",
        "    if i != len(user)-1:\n",
        "      print(output,end=\"\\n\")\n",
        "      output = \"\"\n",
        "print(output)"
      ],
      "metadata": {
        "colab": {
          "base_uri": "https://localhost:8080/"
        },
        "id": "XsVEmy69WTns",
        "outputId": "3a80ea69-f3b6-4b31-f071-167d9bee64a7"
      },
      "execution_count": null,
      "outputs": [
        {
          "output_type": "stream",
          "name": "stdout",
          "text": [
            "tom@gmail,harry@yahoo,bob@gmail,mary@gmail\n",
            ",\n",
            "tom@gmail\n",
            "harry@yahoo\n",
            "bob@gmail\n",
            "mary@gmail\n"
          ]
        }
      ]
    },
    {
      "cell_type": "code",
      "source": [
        "#9\n",
        "s1 = input()\n",
        "s2 = input()\n",
        "print(f\"{s2[-1]}{s1[-1]}{s2[0]}{s1[0]}\")"
      ],
      "metadata": {
        "id": "xpZPAW0wY93D",
        "colab": {
          "base_uri": "https://localhost:8080/"
        },
        "outputId": "59360a8a-23e7-41b7-9543-c43753998396"
      },
      "execution_count": null,
      "outputs": [
        {
          "output_type": "stream",
          "name": "stdout",
          "text": [
            "abcd\n",
            "efgh\n",
            "hdea\n"
          ]
        }
      ]
    },
    {
      "cell_type": "code",
      "source": [
        "#10\n",
        "user = input()\n",
        "for i in range(len(user)):\n",
        "  if i%2 != 0:\n",
        "    print(user[i].upper(),end=\"\")"
      ],
      "metadata": {
        "colab": {
          "base_uri": "https://localhost:8080/"
        },
        "id": "f_d5C4taEXcE",
        "outputId": "a6e4c72c-6205-4f17-c948-0ca4d9b35bfd"
      },
      "execution_count": null,
      "outputs": [
        {
          "output_type": "stream",
          "name": "stdout",
          "text": [
            "string\n",
            "TIG"
          ]
        }
      ]
    },
    {
      "cell_type": "code",
      "source": [
        "#11\n",
        "user = input()\n",
        "number = int(input())\n",
        "if number%2 == 0:\n",
        "  print(user*2*number)\n",
        "else:\n",
        "  print(user*3*number)"
      ],
      "metadata": {
        "colab": {
          "base_uri": "https://localhost:8080/"
        },
        "id": "FmpVeKx6E838",
        "outputId": "5486679b-0503-42a2-b254-aedb8bc1848b"
      },
      "execution_count": null,
      "outputs": [
        {
          "output_type": "stream",
          "name": "stdout",
          "text": [
            "CSE110\n",
            "4\n",
            "CSE110CSE110CSE110CSE110CSE110CSE110CSE110CSE110\n"
          ]
        }
      ]
    },
    {
      "cell_type": "code",
      "source": [
        "#12\n",
        "user = input()\n",
        "letter = input()\n",
        "if letter in user:\n",
        "  for i in user:\n",
        "    if i != letter:\n",
        "      print(i,end=\"\")\n",
        "else:\n",
        "  if len(user)>=3:\n",
        "    print(user[1:len(user)-1:1])\n",
        "  else:\n",
        "    print(user)"
      ],
      "metadata": {
        "id": "KHb4bfHe5sZ6",
        "colab": {
          "base_uri": "https://localhost:8080/"
        },
        "outputId": "0981dc3d-2353-4e44-9cca-4ebc6fb483ee"
      },
      "execution_count": 3,
      "outputs": [
        {
          "output_type": "stream",
          "name": "stdout",
          "text": [
            "hi\n",
            "a\n",
            "hi\n"
          ]
        }
      ]
    },
    {
      "cell_type": "code",
      "source": [
        "#12 With Using Function\n",
        "user = input()\n",
        "letter = input()\n",
        "if letter in user:\n",
        "  print(user.replace(letter,\"\"))\n",
        "else:\n",
        "  if len(user)>=3:\n",
        "    print(user[1:len(user)-1:1])\n",
        "  else:\n",
        "    print(user)"
      ],
      "metadata": {
        "colab": {
          "base_uri": "https://localhost:8080/"
        },
        "id": "n64ITgHi90vf",
        "outputId": "2b51b784-ba43-4448-f92a-827212191779"
      },
      "execution_count": 6,
      "outputs": [
        {
          "output_type": "stream",
          "name": "stdout",
          "text": [
            "tanjiro kamado\n",
            "a\n",
            "tnjiro kmdo\n"
          ]
        }
      ]
    },
    {
      "cell_type": "code",
      "source": [
        "#13 Function Use\n",
        "user = input()#Python programming is very easy\n",
        "upper = True\n",
        "print(user[0].upper(),end=\"\")\n",
        "for i in range(1,len(user)):\n",
        "  if 65<=ord(user[i])<=90 or 97<=ord(user[i])<=122:\n",
        "    if upper:\n",
        "      print(user[i].lower(),end=\"\")\n",
        "      upper = False\n",
        "    else:\n",
        "      print(user[i].upper(),end=\"\")\n",
        "      upper = True\n",
        "  else:\n",
        "    print(user[i],end=\"\")"
      ],
      "metadata": {
        "colab": {
          "base_uri": "https://localhost:8080/"
        },
        "id": "T7itnGI--dHy",
        "outputId": "c32231a2-5b57-401b-b94a-9b35876fc210"
      },
      "execution_count": 15,
      "outputs": [
        {
          "output_type": "stream",
          "name": "stdout",
          "text": [
            "CSE110 Course\n",
            "CsE110 cOuRsE"
          ]
        }
      ]
    },
    {
      "cell_type": "code",
      "source": [
        "#13 Without Function Use\n",
        "user = input()\n",
        "#Python programming is very easy\n",
        "#first letter upper or lower case?\n",
        "if 97<=ord(user[0])<=122:\n",
        "  print(chr((ord(user[0])-32)),end=\"\")\n",
        "else:\n",
        "  print(user[0],end=\"\")\n",
        "upper = True\n",
        "for i in range(1,len(user)):\n",
        "  if 65<=ord(user[i])<=90 or 97<=ord(user[i])<=122:\n",
        "    if upper:\n",
        "      if 65<=ord(user[i])<=90:\n",
        "        print(chr((ord(user[i])+32)),end=\"\")\n",
        "      else:\n",
        "        print(user[i],end=\"\")\n",
        "      upper = False\n",
        "    else:\n",
        "      if 97<=ord(user[i])<=122:\n",
        "        print(chr((ord(user[i])-32)),end=\"\")\n",
        "      else:\n",
        "        print(user[i],end=\"\")\n",
        "      upper = True\n",
        "  else:\n",
        "    print(user[i],end=\"\")"
      ],
      "metadata": {
        "colab": {
          "base_uri": "https://localhost:8080/"
        },
        "id": "3hO7_QOEFnvw",
        "outputId": "c05e708f-7d26-43a4-c874-3fdbbd9baa0c"
      },
      "execution_count": 20,
      "outputs": [
        {
          "output_type": "stream",
          "name": "stdout",
          "text": [
            "c\n",
            "C"
          ]
        }
      ]
    },
    {
      "cell_type": "code",
      "source": [
        "#14\n",
        "#kichu na bhujeo kivabe code korte hoi\n",
        "input1 = input() #dusty\n",
        "input2 = input() #study\n",
        "count = 0\n",
        "for i in input1:\n",
        "  if i in input2:\n",
        "    count+=1\n",
        "if count == len(input2):\n",
        "  print(\"They are anagram\")\n",
        "else:\n",
        "  print(\"They are not anagram\")"
      ],
      "metadata": {
        "colab": {
          "base_uri": "https://localhost:8080/"
        },
        "id": "rdwF-PCLHkLn",
        "outputId": "bf150956-b8e9-4e2e-ef99-7ab1dfef0833"
      },
      "execution_count": 27,
      "outputs": [
        {
          "output_type": "stream",
          "name": "stdout",
          "text": [
            "dustyyy\n",
            "study\n",
            "They are not anagram\n"
          ]
        }
      ]
    },
    {
      "cell_type": "code",
      "source": [
        "#15\n",
        "user = input() #AABBBCCAAAA\n",
        "count = 0\n",
        "max = 0\n",
        "for i in range(len(user)):\n",
        "  if i<len(user)-1:\n",
        "    if user[i] == user[i+1]:\n",
        "      count+=1\n",
        "      if count>max:\n",
        "        output = user[i]\n",
        "        max = count\n",
        "      elif count == max:\n",
        "        output = output\n",
        "        max = count\n",
        "    else:\n",
        "      count = 0\n",
        "if max == 0:\n",
        "  print(None)\n",
        "else:\n",
        "  print(output*(max+1))"
      ],
      "metadata": {
        "colab": {
          "base_uri": "https://localhost:8080/"
        },
        "id": "8e_XT-_lKlFH",
        "outputId": "54d69bc1-0fc8-4088-a568-170644bafae6"
      },
      "execution_count": 36,
      "outputs": [
        {
          "output_type": "stream",
          "name": "stdout",
          "text": [
            "AB\n",
            "None\n"
          ]
        }
      ]
    }
  ]
}