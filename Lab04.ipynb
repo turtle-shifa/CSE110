{
  "nbformat": 4,
  "nbformat_minor": 0,
  "metadata": {
    "colab": {
      "provenance": [],
      "authorship_tag": "ABX9TyM8SuIZOjfc29ZxWpVicZ3c",
      "include_colab_link": true
    },
    "kernelspec": {
      "name": "python3",
      "display_name": "Python 3"
    },
    "language_info": {
      "name": "python"
    }
  },
  "cells": [
    {
      "cell_type": "markdown",
      "metadata": {
        "id": "view-in-github",
        "colab_type": "text"
      },
      "source": [
        "<a href=\"https://colab.research.google.com/github/turtle-shifa/CSE110/blob/main/Lab04.ipynb\" target=\"_parent\"><img src=\"https://colab.research.google.com/assets/colab-badge.svg\" alt=\"Open In Colab\"/></a>"
      ]
    },
    {
      "cell_type": "code",
      "execution_count": null,
      "metadata": {
        "colab": {
          "base_uri": "https://localhost:8080/"
        },
        "id": "CBBWzXJCaapm",
        "outputId": "fff1119c-f50f-442f-a327-c216b808dc66"
      },
      "outputs": [
        {
          "output_type": "stream",
          "name": "stdout",
          "text": [
            "1\n",
            "Numbers in the list: [1]\n",
            "2\n",
            "Numbers in the list: [1, 2]\n",
            "3\n",
            "Numbers in the list: [1, 2, 3]\n",
            "4\n",
            "Numbers in the list: [1, 2, 3, 4]\n",
            "5\n",
            "Numbers in the list: [1, 2, 3, 4, 5]\n",
            "6\n",
            "Numbers in the list: [1, 2, 3, 4, 5, 6]\n",
            "7\n",
            "Numbers in the list: [1, 2, 3, 4, 5, 6, 7]\n",
            "8\n",
            "Numbers in the list: [1, 2, 3, 4, 5, 6, 7, 8]\n",
            "9\n",
            "Numbers in the list: [1, 2, 3, 4, 5, 6, 7, 8, 9]\n",
            "10\n",
            "Numbers in the list: [1, 2, 3, 4, 5, 6, 7, 8, 9, 10]\n"
          ]
        }
      ],
      "source": [
        "#1\n",
        "a_list = []\n",
        "for i in range(10):\n",
        "  user = int(input())\n",
        "  a_list.append(user)\n",
        "  print(f\"Numbers in the list: {a_list}\")"
      ]
    },
    {
      "cell_type": "code",
      "source": [
        "#2\n",
        "user_list = [int(i) for i in input()[1:-1].split(\",\")]\n",
        "if len(user_list)>=4:\n",
        "  print(user_list[2:len(user_list)-2])\n",
        "else:\n",
        "  print(\"Not Possible\")"
      ],
      "metadata": {
        "colab": {
          "base_uri": "https://localhost:8080/"
        },
        "id": "1PLt9gvXT2Dv",
        "outputId": "89421710-889e-4de4-afad-d920d2a48be1"
      },
      "execution_count": null,
      "outputs": [
        {
          "output_type": "stream",
          "name": "stdout",
          "text": [
            "[10, 20, 24, 25, 26, 35, 70]\n",
            "[24, 25, 26]\n"
          ]
        }
      ]
    },
    {
      "cell_type": "code",
      "source": [
        "#3\n",
        "a_list = []\n",
        "for i in range(5):\n",
        "  user = int(input())\n",
        "  a_list.append(user)\n",
        "print(a_list[::-1])"
      ],
      "metadata": {
        "colab": {
          "base_uri": "https://localhost:8080/"
        },
        "id": "GL-3S5hhUDnP",
        "outputId": "8c12acc2-1f56-428d-974f-d76337f9bca5"
      },
      "execution_count": null,
      "outputs": [
        {
          "output_type": "stream",
          "name": "stdout",
          "text": [
            "1\n",
            "2\n",
            "3\n",
            "4\n",
            "5\n",
            "[5, 4, 3, 2, 1]\n"
          ]
        }
      ]
    },
    {
      "cell_type": "code",
      "source": [
        "#4\n",
        "list1 = [int(i) for i in input()[1:-1].split(\",\")]\n",
        "list2 = [int(i) for i in input()[1:-1].split(\",\")]\n",
        "list1+=list2\n",
        "print([i for i in list1 if i%2 == 0])"
      ],
      "metadata": {
        "colab": {
          "base_uri": "https://localhost:8080/"
        },
        "id": "RNIidXSdXiq2",
        "outputId": "7a2ef5f7-c3c4-4a60-f00b-a965a7e3f3f9"
      },
      "execution_count": null,
      "outputs": [
        {
          "output_type": "stream",
          "name": "stdout",
          "text": [
            "[1, 2, 3, 4, 5, 6, 7, 8, 9]\n",
            "[10, 11, 12, -13, -14, -15, -16]\n",
            "[2, 4, 6, 8, 10, 12, -14, -16]\n"
          ]
        }
      ]
    },
    {
      "cell_type": "code",
      "source": [
        "#5\n",
        "#0, 0, 1, 2, 3, 4, 4, 5, 6, 6, 6, 7, 8, 9, 4, 4\n",
        "user = [int(i) for i in input().split(\",\")]\n",
        "demo = []\n",
        "for i in user:\n",
        "  if i not in demo:\n",
        "    demo.append(i)\n",
        "print(demo)"
      ],
      "metadata": {
        "colab": {
          "base_uri": "https://localhost:8080/"
        },
        "id": "QSeS7atEbavv",
        "outputId": "347a0589-d0e5-47b4-9ce4-a5017262b2dc"
      },
      "execution_count": null,
      "outputs": [
        {
          "output_type": "stream",
          "name": "stdout",
          "text": [
            "0, 0, 1, 2, 3, 4, 4, 5, 6, 6, 6, 7, 8, 9, 4, 4\n",
            "[0, 1, 2, 3, 4, 5, 6, 7, 8, 9]\n"
          ]
        }
      ]
    },
    {
      "cell_type": "code",
      "source": [
        "#6\n",
        "#7, 13, 2, 10, 6\n",
        "user = [int(i) for i in input().split(\",\")]\n",
        "max = 0\n",
        "for i in range(len(user)):\n",
        "  if user[i]>= max:\n",
        "    max = user[i]\n",
        "    index = i\n",
        "print(f\"Largest number in the list is {max} which was found at index {index}.\")"
      ],
      "metadata": {
        "colab": {
          "base_uri": "https://localhost:8080/"
        },
        "id": "_Mj8W7HudBvF",
        "outputId": "83b94644-3c32-476d-d05a-2b3366102441"
      },
      "execution_count": null,
      "outputs": [
        {
          "output_type": "stream",
          "name": "stdout",
          "text": [
            "7, 13, 2, 10, 6\n",
            "Largest number in the list is 13 which was found at index 1.\n"
          ]
        }
      ]
    },
    {
      "cell_type": "code",
      "source": [
        "#7\n",
        "# list_one = [1, 2 , 2, 4, 5, 5, 7, 99, 200, 303, 70]\n",
        "# list_two = [1, 1, 2, 3, 3, 3, 4, 5, 200, 500, -5]\n",
        "list1 = [int(i) for i in input()[1:-1].split(\",\")]\n",
        "list2 = [int(i) for i in input()[1:-1].split(\",\")]\n",
        "demo = []\n",
        "for i in list1:\n",
        "  if i not in demo:\n",
        "    demo.append(i)\n",
        "for i in list2:\n",
        "  if i not in demo:\n",
        "    demo.append(i)\n",
        "print(demo)"
      ],
      "metadata": {
        "colab": {
          "base_uri": "https://localhost:8080/"
        },
        "id": "zm-3Cbikd07Q",
        "outputId": "72f012d2-752f-49b3-f96c-961e35521d5d"
      },
      "execution_count": null,
      "outputs": [
        {
          "output_type": "stream",
          "name": "stdout",
          "text": [
            "[1, 2 , 2, 4, 5, 5, 7, 99, 200, 303, 70]\n",
            "[1, 1, 2, 3, 3, 3, 4, 5, 200, 500, -5]\n",
            "[1, 2, 4, 5, 7, 99, 200, 303, 70, 3, 500, -5]\n"
          ]
        }
      ]
    },
    {
      "cell_type": "code",
      "source": [
        "#8\n",
        "#Ar valo laghe nah\n",
        "#Given dhore nichi\n",
        "List_one = [1, 4, 3, 2, 5]\n",
        "List_two = [8, 7, 6, 9]\n",
        "count = 0\n",
        "for i in List_two:\n",
        "  if i in List_one:\n",
        "    count+=1\n",
        "if count == 0:\n",
        "  print(False)\n",
        "else:\n",
        "  print(True)"
      ],
      "metadata": {
        "colab": {
          "base_uri": "https://localhost:8080/"
        },
        "id": "vgtRwKlme8A_",
        "outputId": "74b6bbef-9d12-477b-8585-c5fcaa365c8d"
      },
      "execution_count": null,
      "outputs": [
        {
          "output_type": "stream",
          "name": "stdout",
          "text": [
            "False\n"
          ]
        }
      ]
    },
    {
      "cell_type": "code",
      "source": [
        "#9\n",
        "list1 = [int(i) for i in input().split(\",\")]\n",
        "print([i for i in list1 if i%2 != 0])"
      ],
      "metadata": {
        "colab": {
          "base_uri": "https://localhost:8080/"
        },
        "id": "rgroGYi8fluA",
        "outputId": "42ccecfe-c509-423c-9779-4f3eaba77d63"
      },
      "execution_count": null,
      "outputs": [
        {
          "output_type": "stream",
          "name": "stdout",
          "text": [
            "7,12,4,55,96,2,11,61,33,42\n",
            "[7, 55, 11, 61, 33]\n"
          ]
        }
      ]
    },
    {
      "cell_type": "code",
      "source": [
        "#10\n",
        "#\"hey\", \"there\", \" \", \"what's\", \" \", \"up\", \" \", \"?\"\n",
        "user= [i[1:len(i)-1] for i in input().split(\", \")]\n",
        "another = []\n",
        "for i in user:\n",
        "  if i != \" \":\n",
        "    another.append(i)\n",
        "print(another)"
      ],
      "metadata": {
        "colab": {
          "base_uri": "https://localhost:8080/"
        },
        "id": "QYUohYQLgIJ-",
        "outputId": "c21fe499-700e-4b76-85f7-1821df432885"
      },
      "execution_count": 2,
      "outputs": [
        {
          "output_type": "stream",
          "name": "stdout",
          "text": [
            "\"hey\", \"there\", \" \", \"what's\", \" \", \"up\", \" \", \"?\"\n",
            "['hey', 'there', \"what's\", 'up', '?']\n"
          ]
        }
      ]
    },
    {
      "cell_type": "code",
      "source": [
        "#11\n",
        "list1 = [int(x) for x in input()[1:-1].split(\", \")]\n",
        "list2 = [int(x) for x in input()[1:-1].split(\", \")]\n",
        "print(list1[0:len(list1)-1]+list2[:])"
      ],
      "metadata": {
        "colab": {
          "base_uri": "https://localhost:8080/"
        },
        "id": "FIxHqB9Du4Qt",
        "outputId": "406f6528-b6aa-4937-8097-03d28308f46f"
      },
      "execution_count": 4,
      "outputs": [
        {
          "output_type": "stream",
          "name": "stdout",
          "text": [
            "[1, 4, 7, 5]\n",
            "[6, 1, 3, 9]\n",
            "[1, 4, 7, 6, 1, 3, 9]\n"
          ]
        }
      ]
    },
    {
      "cell_type": "code",
      "source": [
        "#12\n",
        "#[1, 2, 3, 4, 5, 6, 7]\n",
        "print([(int(i))**2 for i in input()[1:-1].split(\", \")])"
      ],
      "metadata": {
        "colab": {
          "base_uri": "https://localhost:8080/"
        },
        "id": "BHRdkx3OwOSU",
        "outputId": "09d266b5-1f7d-4e63-be24-a98f2b75e294"
      },
      "execution_count": 5,
      "outputs": [
        {
          "output_type": "stream",
          "name": "stdout",
          "text": [
            "[1, 2, 3, 4, 5, 6, 7]\n",
            "[1, 4, 9, 16, 25, 36, 49]\n"
          ]
        }
      ]
    },
    {
      "cell_type": "code",
      "source": [
        "#13\n",
        "#7, 13, -5, 10, 6\n",
        "user= [int(i) for i in input().split(\", \")]\n",
        "min = 0\n",
        "max = 0\n",
        "for i in range(len(user)):\n",
        "  if user[i]<=min:\n",
        "    min = user[i]\n",
        "    min_index = i\n",
        "  if user[i]>=max:\n",
        "    max = user[i]\n",
        "    max_index = i\n",
        "print(f\"{user}\\nSmallest number in the list is {min} which was found at index {min_index}\\nLargest number in the list is {max} which was found at index {max_index}\")\n"
      ],
      "metadata": {
        "colab": {
          "base_uri": "https://localhost:8080/"
        },
        "id": "ti0cQHFMwwI1",
        "outputId": "f90b1a6b-52b1-400b-c025-cc2a045f2512"
      },
      "execution_count": 6,
      "outputs": [
        {
          "output_type": "stream",
          "name": "stdout",
          "text": [
            "7, 13, -5, 10, 6\n",
            "[7, 13, -5, 10, 6]\n",
            "Smallest number in the list is -5 which was found at index 2\n",
            "Largest number in the list is 13 which was found at index 1\n"
          ]
        }
      ]
    },
    {
      "cell_type": "code",
      "source": [
        "#14\n",
        "# A, B, C, D\n",
        "# C, E , F, B\n",
        "common = []\n",
        "list1 = [x for x in input().split(\", \")]\n",
        "list2 = [x for x in input().split(\", \")]\n",
        "for i in list1:\n",
        "  if i in list2:\n",
        "    if i not in common:\n",
        "      common.append(i)\n",
        "print(common)"
      ],
      "metadata": {
        "colab": {
          "base_uri": "https://localhost:8080/"
        },
        "id": "3RXr7NIy1Icm",
        "outputId": "65c14b37-ae24-499b-b14b-8750547128ce"
      },
      "execution_count": 9,
      "outputs": [
        {
          "output_type": "stream",
          "name": "stdout",
          "text": [
            "1, 3, A, H, P\n",
            "A, G, 1, P, O\n",
            "['1', 'A', 'P']\n"
          ]
        }
      ]
    },
    {
      "cell_type": "code",
      "source": [
        "#15\n",
        "#7, 13, 2, 10, 6\n",
        "user = [int(x) for x in input().split(\", \")]\n",
        "max = 0\n",
        "demo = []\n",
        "for i in range(len(user)):\n",
        "  if user[i]>=max:\n",
        "    max = user[i]\n",
        "  else:\n",
        "    demo.append(user[i])\n",
        "max = 0\n",
        "for i in demo:\n",
        "  if i>=max:\n",
        "    max = i\n",
        "for i in range(len(user)):\n",
        "  if user[i]==max:\n",
        "    index = i\n",
        "print(f\"Second largest number in the list is {max} which was found at index {index}.\")"
      ],
      "metadata": {
        "colab": {
          "base_uri": "https://localhost:8080/"
        },
        "id": "hc9rbY_b1l5_",
        "outputId": "0f3ad998-3922-448e-afea-78d60e8ff290"
      },
      "execution_count": 10,
      "outputs": [
        {
          "output_type": "stream",
          "name": "stdout",
          "text": [
            "7, 13, 2, 10, 6\n",
            "Second largest number in the list is 10 which was found at index 3.\n"
          ]
        }
      ]
    }
  ]
}