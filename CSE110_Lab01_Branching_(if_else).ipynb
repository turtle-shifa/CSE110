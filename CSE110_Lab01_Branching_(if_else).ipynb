{
  "nbformat": 4,
  "nbformat_minor": 0,
  "metadata": {
    "colab": {
      "provenance": [],
      "authorship_tag": "ABX9TyPwk+8a3LrIoEotUSgD7foj",
      "include_colab_link": true
    },
    "kernelspec": {
      "name": "python3",
      "display_name": "Python 3"
    },
    "language_info": {
      "name": "python"
    }
  },
  "cells": [
    {
      "cell_type": "markdown",
      "metadata": {
        "id": "view-in-github",
        "colab_type": "text"
      },
      "source": [
        "<a href=\"https://colab.research.google.com/github/turtle-shifa/CSE110/blob/main/CSE110_Lab01_Branching_(if_else).ipynb\" target=\"_parent\"><img src=\"https://colab.research.google.com/assets/colab-badge.svg\" alt=\"Open In Colab\"/></a>"
      ]
    },
    {
      "cell_type": "markdown",
      "source": [
        "**#1**"
      ],
      "metadata": {
        "id": "83o5JDkKui_Y"
      }
    },
    {
      "cell_type": "code",
      "source": [
        "number1 = int(input())\n",
        "number2 = int(input())\n",
        "print(f\"Sum = {number1+number2}\")\n",
        "print(f\"Product = {number1*number2}\")\n",
        "print(f\"Difference = {number1-number2}\")"
      ],
      "metadata": {
        "colab": {
          "base_uri": "https://localhost:8080/"
        },
        "id": "w8l406ETt1iJ",
        "outputId": "d0dacc75-70c9-45a6-b21c-dac42e2ee420"
      },
      "execution_count": 2,
      "outputs": [
        {
          "output_type": "stream",
          "name": "stdout",
          "text": [
            "4\n",
            "5\n",
            "Sum = 9\n",
            "Product = 20\n",
            "Difference = -1\n"
          ]
        }
      ]
    },
    {
      "cell_type": "markdown",
      "source": [
        "**#2**"
      ],
      "metadata": {
        "id": "5ATHyaVrvEvO"
      }
    },
    {
      "cell_type": "code",
      "source": [
        "import math\n",
        "radius = float(input())\n",
        "print(f\"Area is {math.pi * (radius**2)}\")\n",
        "print(f\"Circumference is {2*math.pi*radius}\")"
      ],
      "metadata": {
        "colab": {
          "base_uri": "https://localhost:8080/"
        },
        "id": "C9kniJG0vHBv",
        "outputId": "d548670b-968a-4ea3-ccb3-ec3d74a70034"
      },
      "execution_count": 8,
      "outputs": [
        {
          "output_type": "stream",
          "name": "stdout",
          "text": [
            "3.5\n",
            "Area is 38.48451000647496\n",
            "Circumference is 21.991148575128552\n"
          ]
        }
      ]
    },
    {
      "cell_type": "markdown",
      "source": [
        "**#3**"
      ],
      "metadata": {
        "id": "DPSF3Zj9wIN5"
      }
    },
    {
      "cell_type": "code",
      "source": [
        "num1 = int(input())\n",
        "num2 = int(input())\n",
        "if num1 != num2:\n",
        "  if num1>num2:\n",
        "    print(\"First is greater\")\n",
        "  else:\n",
        "    print(\"Second is greater\")\n",
        "else:\n",
        "  print(\"The numbers are equal\")"
      ],
      "metadata": {
        "colab": {
          "base_uri": "https://localhost:8080/"
        },
        "id": "g5fsW1n_vbdB",
        "outputId": "95d0883d-6ca7-447b-ac68-11843e9b0dbf"
      },
      "execution_count": 11,
      "outputs": [
        {
          "output_type": "stream",
          "name": "stdout",
          "text": [
            "-40\n",
            "-4\n",
            "Second is greater\n"
          ]
        }
      ]
    },
    {
      "cell_type": "markdown",
      "source": [
        "**#4**"
      ],
      "metadata": {
        "id": "S_J2kSgIw6qM"
      }
    },
    {
      "cell_type": "code",
      "source": [
        "num1 = int(input())\n",
        "num2 = int(input())\n",
        "if num1 != num2:\n",
        "  if num1>num2:\n",
        "    print(num1-num2)\n",
        "  else:\n",
        "    print(num2-num1)\n",
        "else:\n",
        "  print(0)"
      ],
      "metadata": {
        "colab": {
          "base_uri": "https://localhost:8080/"
        },
        "id": "r1l225MVw9TP",
        "outputId": "4c58cffb-2d6e-4d13-f44e-1def16cf9f9e"
      },
      "execution_count": 13,
      "outputs": [
        {
          "output_type": "stream",
          "name": "stdout",
          "text": [
            "6\n",
            "2\n",
            "4\n"
          ]
        }
      ]
    },
    {
      "cell_type": "markdown",
      "source": [
        "**#5**"
      ],
      "metadata": {
        "id": "6sxJHvtIx_ts"
      }
    },
    {
      "cell_type": "code",
      "source": [
        "user = int(input())\n",
        "if user % 2 == 0:\n",
        "  print(\"The number is even\")\n",
        "else:\n",
        "  print(f\"The number is odd\")"
      ],
      "metadata": {
        "colab": {
          "base_uri": "https://localhost:8080/"
        },
        "id": "-1Oh59PlyBqI",
        "outputId": "ef3b77ae-625c-4450-e206-67fd53b2fca0"
      },
      "execution_count": 15,
      "outputs": [
        {
          "output_type": "stream",
          "name": "stdout",
          "text": [
            "5\n",
            "The number is odd\n"
          ]
        }
      ]
    },
    {
      "cell_type": "markdown",
      "source": [
        "**#6**"
      ],
      "metadata": {
        "id": "59tAGzQtymRd"
      }
    },
    {
      "cell_type": "code",
      "source": [
        "user = int(input())\n",
        "if user % 2 == 0 or user % 5 == 0:\n",
        "  print(user)\n",
        "else:\n",
        "  print(f\"Not a multiple\")"
      ],
      "metadata": {
        "colab": {
          "base_uri": "https://localhost:8080/"
        },
        "id": "lsPQGbN3yn4X",
        "outputId": "69695355-7c96-4d2b-aa74-b26b455a9e03"
      },
      "execution_count": 18,
      "outputs": [
        {
          "output_type": "stream",
          "name": "stdout",
          "text": [
            "10\n",
            "10\n"
          ]
        }
      ]
    },
    {
      "cell_type": "markdown",
      "source": [
        "**#7**"
      ],
      "metadata": {
        "id": "b8TgaPG5y7__"
      }
    },
    {
      "cell_type": "code",
      "source": [
        "user = int(input())\n",
        "if user % 2 == 0 and user % 5 == 0:\n",
        "  print(\"multiple of 2 and 5 both\")\n",
        "elif user % 2 == 0 or user % 5 == 0:\n",
        "  print(user)\n",
        "else:\n",
        "  print(f\"Not a multiple\")"
      ],
      "metadata": {
        "colab": {
          "base_uri": "https://localhost:8080/"
        },
        "id": "PW2sNuJpy9Hf",
        "outputId": "1624db44-98d1-4380-e70e-9d13bbc203d9"
      },
      "execution_count": 20,
      "outputs": [
        {
          "output_type": "stream",
          "name": "stdout",
          "text": [
            "10\n",
            "multiple of 2 and 5 both\n"
          ]
        }
      ]
    },
    {
      "cell_type": "markdown",
      "source": [
        "**#8**"
      ],
      "metadata": {
        "id": "ybQ1J6pxzXPt"
      }
    },
    {
      "cell_type": "code",
      "source": [
        "user = int(input())\n",
        "if user % 2 == 0 and user % 5 == 0:\n",
        "  print(user)\n",
        "else:\n",
        "  print(f\"Not multiple of 2 and 5 both\")"
      ],
      "metadata": {
        "colab": {
          "base_uri": "https://localhost:8080/"
        },
        "id": "Dm--0AwczY23",
        "outputId": "68ecdf28-a990-481d-f59c-44f27cfbf6ec"
      },
      "execution_count": 22,
      "outputs": [
        {
          "output_type": "stream",
          "name": "stdout",
          "text": [
            "40\n",
            "40\n"
          ]
        }
      ]
    },
    {
      "cell_type": "markdown",
      "source": [
        "**#9**"
      ],
      "metadata": {
        "id": "N96-WKSCzup8"
      }
    },
    {
      "cell_type": "code",
      "source": [
        "user = int(input())\n",
        "if user % 2 != 0 and user % 5 != 0:\n",
        "  print(user)\n",
        "else:\n",
        "  print(f\"No\")"
      ],
      "metadata": {
        "colab": {
          "base_uri": "https://localhost:8080/"
        },
        "id": "xw1GERU4zwvW",
        "outputId": "7e6ceef5-b4be-498a-ab0e-373a1e5021be"
      },
      "execution_count": 25,
      "outputs": [
        {
          "output_type": "stream",
          "name": "stdout",
          "text": [
            "3\n",
            "3\n"
          ]
        }
      ]
    },
    {
      "cell_type": "markdown",
      "source": [
        "**#10**"
      ],
      "metadata": {
        "id": "9iGXXK55z-7d"
      }
    },
    {
      "cell_type": "code",
      "source": [
        "user = int(input())\n",
        "if user % 2 != 0 and user % 5 != 0:\n",
        "  print(user)\n",
        "else:\n",
        "  print(f\"No\")"
      ],
      "metadata": {
        "colab": {
          "base_uri": "https://localhost:8080/"
        },
        "id": "8BN48FHA0AL3",
        "outputId": "59c6a3b6-5777-4248-c083-49d9f643d03d"
      },
      "execution_count": 27,
      "outputs": [
        {
          "output_type": "stream",
          "name": "stdout",
          "text": [
            "11\n",
            "11\n"
          ]
        }
      ]
    },
    {
      "cell_type": "markdown",
      "source": [
        "**#11**"
      ],
      "metadata": {
        "id": "pLoPleCs19MN"
      }
    },
    {
      "cell_type": "code",
      "source": [
        "user = int(input())\n",
        "grade = \"A\"\n",
        "if user>=0 and user<=100:\n",
        "  #if 0<=user<=100:\n",
        "  if 90<=user<=100:\n",
        "    pass\n",
        "  elif 80<=user<=89:\n",
        "    grade = \"B\"\n",
        "  elif 70<=user<=79:\n",
        "    grade = \"C\"\n",
        "  elif 60<=user<=69:\n",
        "    grade = \"D\"\n",
        "  elif 50<=user<=59:\n",
        "    grade = \"E\"\n",
        "  else:\n",
        "    grade = \"F\"\n",
        "  print(grade)\n",
        "else:\n",
        "  print(\"Error: Please enter Student marks in the range between 0 to 100\")\n"
      ],
      "metadata": {
        "colab": {
          "base_uri": "https://localhost:8080/"
        },
        "id": "ptTfGMIl17aH",
        "outputId": "5aadf74f-2031-4d7f-875a-3891d9ec467d"
      },
      "execution_count": 36,
      "outputs": [
        {
          "output_type": "stream",
          "name": "stdout",
          "text": [
            "91\n",
            "A\n"
          ]
        }
      ]
    },
    {
      "cell_type": "markdown",
      "source": [
        "**#12**"
      ],
      "metadata": {
        "id": "OXxr69VA3_bn"
      }
    },
    {
      "cell_type": "code",
      "source": [
        "hour = int(input())\n",
        "if hour<=40:\n",
        "  print(f\"{hour*200}\")\n",
        "else:\n",
        "  print(f\"{((hour-40)*300)+8000}\")"
      ],
      "metadata": {
        "colab": {
          "base_uri": "https://localhost:8080/"
        },
        "id": "2hLSWu1v3mgr",
        "outputId": "b931b482-01c2-4f8d-b728-9211833c3712"
      },
      "execution_count": 39,
      "outputs": [
        {
          "output_type": "stream",
          "name": "stdout",
          "text": [
            "30\n",
            "6000\n"
          ]
        }
      ]
    },
    {
      "cell_type": "markdown",
      "source": [
        "**#13**"
      ],
      "metadata": {
        "id": "saOkoG-K4uoQ"
      }
    },
    {
      "cell_type": "code",
      "source": [
        "seconds = int(input())\n",
        "hour = seconds // 3600\n",
        "seconds = seconds % 3600\n",
        "minutes = seconds // 60\n",
        "seconds = seconds % 60\n",
        "print(f\"Hours: {hour} Minutes: {minutes} Seconds: {seconds}\")"
      ],
      "metadata": {
        "colab": {
          "base_uri": "https://localhost:8080/"
        },
        "id": "tLK1szQn4uLR",
        "outputId": "2f3fad36-1382-4334-d0c0-9156bf001d25"
      },
      "execution_count": 40,
      "outputs": [
        {
          "output_type": "stream",
          "name": "stdout",
          "text": [
            "10000\n",
            "Hours: 2 Minutes: 46 Seconds: 40\n"
          ]
        }
      ]
    },
    {
      "cell_type": "markdown",
      "source": [
        "**#14**"
      ],
      "metadata": {
        "id": "yzBrnIBy64CB"
      }
    },
    {
      "cell_type": "code",
      "source": [
        "s = int(input())\n",
        "if s>=100:\n",
        "  print(f\"{(12000/(4+((s**2)/14900)))}\")\n",
        "else:\n",
        "  print(f\"{(3000-((s**2)*125))}\")"
      ],
      "metadata": {
        "colab": {
          "base_uri": "https://localhost:8080/"
        },
        "id": "1d44D-WQ65af",
        "outputId": "203dc9fe-88a6-4790-c765-870907d96775"
      },
      "execution_count": 42,
      "outputs": [
        {
          "output_type": "stream",
          "name": "stdout",
          "text": [
            "3\n",
            "1875\n"
          ]
        }
      ]
    },
    {
      "cell_type": "markdown",
      "source": [
        "**#15**"
      ],
      "metadata": {
        "id": "lvoXU5VO7uwJ"
      }
    },
    {
      "cell_type": "code",
      "source": [
        "user = int(input())\n",
        "output = \"Patience is a virtue\"\n",
        "if 0<=user<=24:\n",
        "  if 4<=user<=6:\n",
        "    output = \"Breakfast\"\n",
        "  elif 12<=user<=13:\n",
        "    output = \"Lunch\"\n",
        "  elif 16<=user<=17:\n",
        "    output = \"Snacks\"\n",
        "  elif 19<=user<=20:\n",
        "    output = \"Dinner\"\n",
        "  print(output)\n",
        "else:\n",
        "  print(\"Wrong time\")"
      ],
      "metadata": {
        "colab": {
          "base_uri": "https://localhost:8080/"
        },
        "id": "7IrtI9E87rWy",
        "outputId": "c2bc7100-8fc4-41c0-c43e-f4e7b1d720a6"
      },
      "execution_count": 46,
      "outputs": [
        {
          "output_type": "stream",
          "name": "stdout",
          "text": [
            "-5\n",
            "Wrong time\n"
          ]
        }
      ]
    }
  ]
}