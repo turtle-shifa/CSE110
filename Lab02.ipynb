{
  "nbformat": 4,
  "nbformat_minor": 0,
  "metadata": {
    "colab": {
      "provenance": [],
      "authorship_tag": "ABX9TyO8xqvLU716kwwAsgDLuKi7",
      "include_colab_link": true
    },
    "kernelspec": {
      "name": "python3",
      "display_name": "Python 3"
    },
    "language_info": {
      "name": "python"
    }
  },
  "cells": [
    {
      "cell_type": "markdown",
      "metadata": {
        "id": "view-in-github",
        "colab_type": "text"
      },
      "source": [
        "<a href=\"https://colab.research.google.com/github/turtle-shifa/CSE110/blob/main/Lab02.ipynb\" target=\"_parent\"><img src=\"https://colab.research.google.com/assets/colab-badge.svg\" alt=\"Open In Colab\"/></a>"
      ]
    },
    {
      "cell_type": "markdown",
      "source": [
        "**1**"
      ],
      "metadata": {
        "id": "lLAnVjbvCbjG"
      }
    },
    {
      "cell_type": "code",
      "execution_count": null,
      "metadata": {
        "colab": {
          "base_uri": "https://localhost:8080/"
        },
        "id": "bL6UWhW5CHvd",
        "outputId": "8fff7df7-e896-46c9-b78c-537deff7b670"
      },
      "outputs": [
        {
          "output_type": "stream",
          "name": "stdout",
          "text": [
            "24, 18, 12, 6, 0, -6"
          ]
        }
      ],
      "source": [
        "#24, 18, 12, 6, 0, -6\n",
        "user = 24\n",
        "for i in range(24,-7,-6):\n",
        "  if i == -6:\n",
        "    print(i, end=\"\")\n",
        "  else:\n",
        "    print(i, end=\", \")"
      ]
    },
    {
      "cell_type": "code",
      "source": [
        "print(3)\n",
        "print(4)"
      ],
      "metadata": {
        "id": "k2vZYX0oDbBf",
        "colab": {
          "base_uri": "https://localhost:8080/"
        },
        "outputId": "0ba1b6ce-3506-47a0-fc44-244078744ce9"
      },
      "execution_count": 4,
      "outputs": [
        {
          "output_type": "stream",
          "name": "stdout",
          "text": [
            "3\n",
            "4\n"
          ]
        }
      ]
    },
    {
      "cell_type": "code",
      "source": [
        "print(3,4)\n",
        "print(3, end=\", \")\n",
        "print(4, end=\", \")\n",
        "print(5)"
      ],
      "metadata": {
        "colab": {
          "base_uri": "https://localhost:8080/"
        },
        "id": "EX_T-C6gSl3l",
        "outputId": "2d26cdf2-f41a-4c04-b283-7bf838db496f"
      },
      "execution_count": 10,
      "outputs": [
        {
          "output_type": "stream",
          "name": "stdout",
          "text": [
            "3 4\n",
            "3, 4, 5\n"
          ]
        }
      ]
    },
    {
      "cell_type": "code",
      "source": [
        "#-10, -5, 0, 5, 10, 15, 20\n",
        "start = -10\n",
        "while start<=20:\n",
        "  if start!=20:\n",
        "    print(start,end=\", \")\n",
        "  else:\n",
        "    print(start,end=\"\")\n",
        "  start+=5"
      ],
      "metadata": {
        "colab": {
          "base_uri": "https://localhost:8080/"
        },
        "id": "ealSOQVDTSga",
        "outputId": "c8170cf9-6fff-4ad7-824e-e5378a777cc4"
      },
      "execution_count": 11,
      "outputs": [
        {
          "output_type": "stream",
          "name": "stdout",
          "text": [
            "-10, -5, 0, 5, 10, 15, 20"
          ]
        }
      ]
    },
    {
      "cell_type": "code",
      "source": [
        "#18, 27, 36, 45, 54, 63\n",
        "start = 18\n",
        "while start<=63:\n",
        "  if start!=63:\n",
        "    print(start,end=\", \")\n",
        "  else:\n",
        "    print(start,end=\"\")\n",
        "  start+=9"
      ],
      "metadata": {
        "colab": {
          "base_uri": "https://localhost:8080/"
        },
        "id": "sdGfVnqZXtcC",
        "outputId": "6e97629c-765d-4087-874a-5b30622a9b9d"
      },
      "execution_count": 12,
      "outputs": [
        {
          "output_type": "stream",
          "name": "stdout",
          "text": [
            "18, 27, 36, 45, 54, 63"
          ]
        }
      ]
    },
    {
      "cell_type": "code",
      "source": [
        "#18,-27, 36,-45,54,-63\n",
        "start = 18\n",
        "while start<=63:\n",
        "  if start==63:\n",
        "    print((start*-1),end=\"\")\n",
        "  else:\n",
        "    if start%2 == 0:\n",
        "      print(start,end=\", \")\n",
        "    else:\n",
        "      print((start*-1),end=\", \")\n",
        "  start+=9"
      ],
      "metadata": {
        "colab": {
          "base_uri": "https://localhost:8080/"
        },
        "id": "2_K7a7u0X60-",
        "outputId": "19fa6e20-caea-428a-ce3c-941d0e757a0d"
      },
      "execution_count": 15,
      "outputs": [
        {
          "output_type": "stream",
          "name": "stdout",
          "text": [
            "18, -27, 36, -45, 54, -63"
          ]
        }
      ]
    },
    {
      "cell_type": "markdown",
      "source": [
        "**2**"
      ],
      "metadata": {
        "id": "lHv5AI_FC8jn"
      }
    },
    {
      "cell_type": "code",
      "source": [
        "car = input()\n",
        "number = int(input())\n",
        "for i in range(number):\n",
        "  print(car)"
      ],
      "metadata": {
        "id": "GMIF6EMLCpMO",
        "colab": {
          "base_uri": "https://localhost:8080/"
        },
        "outputId": "73d84669-2708-42fa-b04e-60bdddb69efc"
      },
      "execution_count": 16,
      "outputs": [
        {
          "output_type": "stream",
          "name": "stdout",
          "text": [
            "Car\n",
            "5\n",
            "Car\n",
            "Car\n",
            "Car\n",
            "Car\n",
            "Car\n"
          ]
        }
      ]
    },
    {
      "cell_type": "code",
      "source": [
        "#3\n",
        "sum = 0\n",
        "for i in range(1,601,1):\n",
        "  if i%7 == 0 and i%9 == 0:\n",
        "    sum+=i\n",
        "print(sum)"
      ],
      "metadata": {
        "colab": {
          "base_uri": "https://localhost:8080/"
        },
        "id": "-sBkWP-uZlON",
        "outputId": "a4aa590d-dcea-4128-bada-71dea48e0319"
      },
      "execution_count": 17,
      "outputs": [
        {
          "output_type": "stream",
          "name": "stdout",
          "text": [
            "2835\n"
          ]
        }
      ]
    },
    {
      "cell_type": "code",
      "source": [
        "#4\n",
        "sum = 0\n",
        "for i in range(1,601,1):\n",
        "  if i%7 == 0 or i%9 == 0:\n",
        "    sum+=i\n",
        "print(sum)"
      ],
      "metadata": {
        "colab": {
          "base_uri": "https://localhost:8080/"
        },
        "id": "X1Q0uwX4Z-Ao",
        "outputId": "9fb74d8c-1611-4f3a-f462-edd58d8b8da9"
      },
      "execution_count": 18,
      "outputs": [
        {
          "output_type": "stream",
          "name": "stdout",
          "text": [
            "42649\n"
          ]
        }
      ]
    },
    {
      "cell_type": "code",
      "source": [
        "#5\n",
        "sum = 0\n",
        "for i in range(1,601,1):\n",
        "  if i%7 == 0 and i%9 == 0:\n",
        "    pass\n",
        "  else:\n",
        "    if i%7 == 0 or i%9 == 0:\n",
        "      sum+=i\n",
        "print(sum)"
      ],
      "metadata": {
        "colab": {
          "base_uri": "https://localhost:8080/"
        },
        "id": "NYpYq-8QaE7j",
        "outputId": "6ea6f40c-c5ea-4ec7-d815-7a3f49e286e0"
      },
      "execution_count": 19,
      "outputs": [
        {
          "output_type": "stream",
          "name": "stdout",
          "text": [
            "39814\n"
          ]
        }
      ]
    },
    {
      "cell_type": "code",
      "source": [
        "#6\n",
        "for i in range(10,51,1):\n",
        "  if i%2 != 0:\n",
        "    if i != 50:\n",
        "      print(i,end=\" \")\n",
        "    else:\n",
        "      print(i)"
      ],
      "metadata": {
        "colab": {
          "base_uri": "https://localhost:8080/"
        },
        "id": "GRI-L7AHaSFk",
        "outputId": "da9eba1a-f248-4c04-f025-d6ecbab55899"
      },
      "execution_count": 20,
      "outputs": [
        {
          "output_type": "stream",
          "name": "stdout",
          "text": [
            "11 13 15 17 19 21 23 25 27 29 31 33 35 37 39 41 43 45 47 49 "
          ]
        }
      ]
    },
    {
      "cell_type": "code",
      "source": [
        "#7\n",
        "sum = 0\n",
        "user = int(input())\n",
        "for i in range(1,user+1,1):\n",
        "  if i%2 != 0:\n",
        "    sum+=(i**2)\n",
        "  else:\n",
        "    sum-=(i**2)\n",
        "print(sum)"
      ],
      "metadata": {
        "colab": {
          "base_uri": "https://localhost:8080/"
        },
        "id": "j4vF5voaawpq",
        "outputId": "5664c01a-35e4-4950-8624-5505de1c5de7"
      },
      "execution_count": 21,
      "outputs": [
        {
          "output_type": "stream",
          "name": "stdout",
          "text": [
            "10\n",
            "-55\n"
          ]
        }
      ]
    },
    {
      "cell_type": "code",
      "source": [
        "#8\n",
        "count = 0\n",
        "sum = 0\n",
        "for i in range(10):\n",
        "  user = int(input())\n",
        "  if user%2 != 0:\n",
        "    count+=1\n",
        "    sum+=user\n",
        "print(f\"Total is {sum} and Average is {sum/count}\")"
      ],
      "metadata": {
        "colab": {
          "base_uri": "https://localhost:8080/"
        },
        "id": "Kpy3JKSJbxBt",
        "outputId": "46b69c98-88fe-416e-fe40-75969aa91a4d"
      },
      "execution_count": 22,
      "outputs": [
        {
          "output_type": "stream",
          "name": "stdout",
          "text": [
            "1\n",
            "2\n",
            "3\n",
            "4\n",
            "5\n",
            "6\n",
            "7\n",
            "8\n",
            "9\n",
            "10\n",
            "Total is 25 and Average is 5.0\n"
          ]
        }
      ]
    },
    {
      "cell_type": "code",
      "source": [
        "#9\n",
        "sum = 0\n",
        "user = int(input())\n",
        "for i in range(1,user+1,1):\n",
        "  if i%7 == 0:\n",
        "    sum+=i\n",
        "print(sum)"
      ],
      "metadata": {
        "colab": {
          "base_uri": "https://localhost:8080/"
        },
        "id": "jgRTRQGuceHU",
        "outputId": "d4e9bc76-2bfe-4414-a90e-97f3867ebaea"
      },
      "execution_count": 23,
      "outputs": [
        {
          "output_type": "stream",
          "name": "stdout",
          "text": [
            "50\n",
            "196\n"
          ]
        }
      ]
    },
    {
      "cell_type": "code",
      "source": [
        "#10\n",
        "sum=0\n",
        "for i in range(10):\n",
        "  number = int(input())\n",
        "  if i == 0:\n",
        "    sum+=number\n",
        "  else:\n",
        "    sum+=number\n",
        "  print(sum)"
      ],
      "metadata": {
        "colab": {
          "base_uri": "https://localhost:8080/"
        },
        "id": "AgT9ULKHdTw-",
        "outputId": "8901b9d9-3bd7-45db-b5a5-0b426379994f"
      },
      "execution_count": 25,
      "outputs": [
        {
          "output_type": "stream",
          "name": "stdout",
          "text": [
            "10\n",
            "10\n",
            "12\n",
            "22\n",
            "22\n",
            "44\n",
            "56\n",
            "100\n",
            "200\n",
            "300\n",
            "500\n",
            "800\n",
            "899\n",
            "1699\n",
            "900\n",
            "2599\n",
            "8\n",
            "2607\n",
            "5\n",
            "2612\n"
          ]
        }
      ]
    },
    {
      "cell_type": "code",
      "source": [
        "print(32768//10)\n",
        "print(32768%10)"
      ],
      "metadata": {
        "colab": {
          "base_uri": "https://localhost:8080/"
        },
        "id": "asRc6RwTqlLU",
        "outputId": "b74f9df4-41a7-4a76-8409-f8addc3f3820"
      },
      "execution_count": 37,
      "outputs": [
        {
          "output_type": "stream",
          "name": "stdout",
          "text": [
            "3276\n",
            "8\n"
          ]
        }
      ]
    },
    {
      "cell_type": "code",
      "source": [
        "#11\n",
        "user = int(input())\n",
        "str_convert = str(user)\n",
        "for i in range(len(str_convert)):\n",
        "  if i == len(str_convert)-1:\n",
        "    print(str_convert[i])\n",
        "  else:\n",
        "    print(str_convert[i],end=\", \")"
      ],
      "metadata": {
        "colab": {
          "base_uri": "https://localhost:8080/"
        },
        "id": "gDdzZn3ItSwh",
        "outputId": "d8c5308f-9771-4151-fd48-0b0e201987f5"
      },
      "execution_count": 40,
      "outputs": [
        {
          "output_type": "stream",
          "name": "stdout",
          "text": [
            "32768\n",
            "3, 2, 7, 6, 8\n"
          ]
        }
      ]
    },
    {
      "cell_type": "code",
      "source": [
        "#12 Alternative\n",
        "user = int(input())\n",
        "while user>0:\n",
        "  digit = user%10\n",
        "  user = user//10\n",
        "  if user!=0:\n",
        "    print(digit,end=\", \")\n",
        "  else:\n",
        "    print(digit)"
      ],
      "metadata": {
        "colab": {
          "base_uri": "https://localhost:8080/"
        },
        "id": "uDoG9j3fp9Hx",
        "outputId": "75d694ff-e644-473a-ee9f-4852a15d8fa8"
      },
      "execution_count": 38,
      "outputs": [
        {
          "output_type": "stream",
          "name": "stdout",
          "text": [
            "32768\n",
            "8, 6, 7, 2, 3\n"
          ]
        }
      ]
    },
    {
      "cell_type": "code",
      "source": [
        "#12\n",
        "user = int(input())\n",
        "#32728\n",
        "str_convert = str(user)\n",
        "for i in range((len(str_convert))-1,-1,-1):\n",
        "  if i == 0:\n",
        "    print(str_convert[i])\n",
        "  else:\n",
        "    print(str_convert[i],end=\", \")"
      ],
      "metadata": {
        "colab": {
          "base_uri": "https://localhost:8080/"
        },
        "id": "NrjnQ5Sqd1FR",
        "outputId": "ada8a0eb-3281-4dda-e4f2-f56745118693"
      },
      "execution_count": 32,
      "outputs": [
        {
          "output_type": "stream",
          "name": "stdout",
          "text": [
            "32768\n",
            "8, 6, 7, 2, 3\n"
          ]
        }
      ]
    },
    {
      "cell_type": "code",
      "source": [
        "#13\n",
        "user = int(input())\n",
        "print(len(str(user)))"
      ],
      "metadata": {
        "colab": {
          "base_uri": "https://localhost:8080/"
        },
        "id": "CiWXwXhsk7nZ",
        "outputId": "1d9634dd-957f-45fd-905f-c86d11197ad2"
      },
      "execution_count": 33,
      "outputs": [
        {
          "output_type": "stream",
          "name": "stdout",
          "text": [
            "32768\n",
            "5\n"
          ]
        }
      ]
    },
    {
      "cell_type": "code",
      "source": [
        "#13 Alternative\n",
        "user = int(input())\n",
        "count = 0\n",
        "while user>0:\n",
        "  user = user//10\n",
        "  count+=1\n",
        "print(count)"
      ],
      "metadata": {
        "colab": {
          "base_uri": "https://localhost:8080/"
        },
        "id": "wPHIt86CoHAJ",
        "outputId": "ad75f061-b8ca-4da1-faaf-6c2c20ec351c"
      },
      "execution_count": 36,
      "outputs": [
        {
          "output_type": "stream",
          "name": "stdout",
          "text": [
            "32768\n",
            "5\n"
          ]
        }
      ]
    },
    {
      "cell_type": "code",
      "source": [
        "#14\n",
        "user = int(input())\n",
        "count = 0\n",
        "output = \"\"\n",
        "for i in range(1,user+1,1):\n",
        "  if user%i == 0:\n",
        "    count+=1\n",
        "    output+=str(i)+\", \"\n",
        "print(output[0:len(output)-2:1])\n",
        "print(f\"Total {count} divisors.\")"
      ],
      "metadata": {
        "colab": {
          "base_uri": "https://localhost:8080/"
        },
        "id": "dIqdEXGhu4Xj",
        "outputId": "66623418-542b-4722-e1e6-b8287401b916"
      },
      "execution_count": 41,
      "outputs": [
        {
          "output_type": "stream",
          "name": "stdout",
          "text": [
            "6\n",
            "1, 2, 3, 6\n",
            "Total 4 divisors.\n"
          ]
        }
      ]
    },
    {
      "cell_type": "code",
      "source": [
        "#15\n",
        "user = int(input())\n",
        "sum = 0\n",
        "for i in range(1,user,1):\n",
        "  if user%i == 0:\n",
        "    sum+=i\n",
        "if sum != user:\n",
        "  print(f\"{user} is not a perfect number\")\n",
        "else:\n",
        "  print(f\"{user} is a perfect number\")"
      ],
      "metadata": {
        "colab": {
          "base_uri": "https://localhost:8080/"
        },
        "id": "mH7kLWuRwPjV",
        "outputId": "df15a78c-b093-4062-f1f8-3c4b4deb9f28"
      },
      "execution_count": 44,
      "outputs": [
        {
          "output_type": "stream",
          "name": "stdout",
          "text": [
            "6\n",
            "6 is a perfect number\n"
          ]
        }
      ]
    },
    {
      "cell_type": "code",
      "source": [
        "#16\n",
        "user = int(input())\n",
        "count = 0\n",
        "for i in range(1,user+1,1):\n",
        "  if user%i == 0:\n",
        "    count+=1\n",
        "if count == 2:\n",
        "  print(f\"{user} is a prime number\")\n",
        "else:\n",
        "  print(f\"{user} is not a prime number\")"
      ],
      "metadata": {
        "colab": {
          "base_uri": "https://localhost:8080/"
        },
        "id": "cgO6ekA-xWD6",
        "outputId": "d88ddd30-2448-491a-c9b3-f4d615b09feb"
      },
      "execution_count": 46,
      "outputs": [
        {
          "output_type": "stream",
          "name": "stdout",
          "text": [
            "11\n",
            "11 is a prime number\n"
          ]
        }
      ]
    },
    {
      "cell_type": "code",
      "source": [
        "quantity = int(input())\n",
        "sum = 0\n",
        "max = 0\n",
        "min = 0\n",
        "for i in range(quantity):\n",
        "  user = int(input())\n",
        "  if user>=max:\n",
        "    max = user\n",
        "  elif user<=min:\n",
        "    min = user\n",
        "  sum+=user\n",
        "print(f\"Maximum {max}\\nMinimum {min}\\nAverage is {sum/quantity}\")"
      ],
      "metadata": {
        "colab": {
          "base_uri": "https://localhost:8080/"
        },
        "id": "zY1s1EnZx1He",
        "outputId": "60a709ba-7f21-4eef-a4df-7bea15161f78"
      },
      "execution_count": 47,
      "outputs": [
        {
          "output_type": "stream",
          "name": "stdout",
          "text": [
            "5\n",
            "10\n",
            "-100\n",
            "20\n",
            "30\n",
            "-200\n",
            "Maximum 30\n",
            "Minimum -200\n",
            "Average is -48.0\n"
          ]
        }
      ]
    },
    {
      "cell_type": "code",
      "source": [
        "#18\n",
        "user = int(input())\n",
        "output = \"\"\n",
        "for i in range(user):\n",
        "  for j in range(user):\n",
        "    output+=\"+\"\n",
        "  if i != user-1:\n",
        "    output+=\"\\n\"\n",
        "print(output)"
      ],
      "metadata": {
        "colab": {
          "base_uri": "https://localhost:8080/"
        },
        "id": "50ZjgblKyvx2",
        "outputId": "583b6d63-730c-493e-9f6a-7e0d2351c413"
      },
      "execution_count": 64,
      "outputs": [
        {
          "output_type": "stream",
          "name": "stdout",
          "text": [
            "3\n",
            "+++\n",
            "+++\n",
            "+++\n"
          ]
        }
      ]
    },
    {
      "cell_type": "code",
      "source": [
        "#19\n",
        "row = int(input())\n",
        "column = int(input())\n",
        "output = \"\"\n",
        "for i in range(row):\n",
        "  for j in range(1,column+1,1):\n",
        "    output+=str(j)\n",
        "  if i != row-1:\n",
        "    output+=\"\\n\"\n",
        "print(output)"
      ],
      "metadata": {
        "colab": {
          "base_uri": "https://localhost:8080/"
        },
        "id": "YBp32Gn11Y77",
        "outputId": "1c40c25a-01e0-463d-9458-bea1b9f21437"
      },
      "execution_count": 63,
      "outputs": [
        {
          "output_type": "stream",
          "name": "stdout",
          "text": [
            "4\n",
            "6\n",
            "123456\n",
            "123456\n",
            "123456\n",
            "123456\n"
          ]
        }
      ]
    },
    {
      "cell_type": "code",
      "source": [
        "#20\n",
        "user = int(input())\n",
        "#4\n",
        "output = \"\"\n",
        "for i in range(1,user+1,1):\n",
        "  for j in range(1,i+1):\n",
        "    output+=str(j)\n",
        "  if i != user:\n",
        "    output+=\"\\n\"\n",
        "print(output)"
      ],
      "metadata": {
        "colab": {
          "base_uri": "https://localhost:8080/"
        },
        "id": "IcDQb0TV2h30",
        "outputId": "3bd0a8a0-061d-45ce-f1db-a32b55a04969"
      },
      "execution_count": 65,
      "outputs": [
        {
          "output_type": "stream",
          "name": "stdout",
          "text": [
            "6\n",
            "1\n",
            "12\n",
            "123\n",
            "1234\n",
            "12345\n",
            "123456\n"
          ]
        }
      ]
    },
    {
      "cell_type": "code",
      "source": [
        "#21\n",
        "user = int(input())\n",
        "first = 0\n",
        "second = 1\n",
        "output = str(first)+\" \"+str(second)+\" \"\n",
        "third = first+second\n",
        "while third<=user:\n",
        "  third = first + second\n",
        "  first = second\n",
        "  second = third\n",
        "  if third<=user:\n",
        "    output+=str(third)+\" \"\n",
        "print(output[0:len(output)-1:1])"
      ],
      "metadata": {
        "colab": {
          "base_uri": "https://localhost:8080/"
        },
        "id": "8fMpsNiE4tmI",
        "outputId": "066b3020-1ead-44d3-8ac7-54f44827ccb1"
      },
      "execution_count": 3,
      "outputs": [
        {
          "output_type": "stream",
          "name": "stdout",
          "text": [
            "10\n",
            "0 1 1 2 3 5 8\n"
          ]
        }
      ]
    },
    {
      "cell_type": "code",
      "source": [
        "#22\n",
        "user = int(input())\n",
        "output = \"\"\n",
        "while user>0:\n",
        "  output+=str(user%2)\n",
        "  user = user//2\n",
        "print(output[::-1])"
      ],
      "metadata": {
        "colab": {
          "base_uri": "https://localhost:8080/"
        },
        "id": "dSvbTRMZGUan",
        "outputId": "3c69702f-9722-4907-8013-2483244059fb"
      },
      "execution_count": 6,
      "outputs": [
        {
          "output_type": "stream",
          "name": "stdout",
          "text": [
            "10\n",
            "1010\n"
          ]
        }
      ]
    },
    {
      "cell_type": "code",
      "source": [
        "#23\n",
        "user = int(input())\n",
        "str_convert = str(user)\n",
        "initial_index = 0\n",
        "sum = 0\n",
        "#1010\n",
        "for i in range(len(str_convert)-1,-1,-1):\n",
        "  #i=3\n",
        "  sum+=((2**i)*(int(str_convert[initial_index])))\n",
        "  initial_index+=1\n",
        "print(sum)"
      ],
      "metadata": {
        "colab": {
          "base_uri": "https://localhost:8080/"
        },
        "id": "ybVxZDSaH6gu",
        "outputId": "f021a507-ff21-4f43-daeb-db8cb1850647"
      },
      "execution_count": 12,
      "outputs": [
        {
          "output_type": "stream",
          "name": "stdout",
          "text": [
            "1101\n",
            "13\n"
          ]
        }
      ]
    },
    {
      "cell_type": "code",
      "source": [
        "#24\n",
        "min = 0\n",
        "sum = 0\n",
        "count = 0\n",
        "for i in range(5):\n",
        "  user = int(input())\n",
        "  if user<=min:\n",
        "    min = user\n",
        "  if user%2 == 0:\n",
        "    sum+=user\n",
        "    count+=1\n",
        "print(f\"Minimum {min}\\nAverage is {sum/count}\")"
      ],
      "metadata": {
        "colab": {
          "base_uri": "https://localhost:8080/"
        },
        "id": "pJw67LdEL4bC",
        "outputId": "176080c5-c59f-4910-981e-58b4bdebb894"
      },
      "execution_count": 13,
      "outputs": [
        {
          "output_type": "stream",
          "name": "stdout",
          "text": [
            "10\n",
            "4\n",
            "-1\n",
            "-100\n",
            "1\n",
            "Minimum -100\n",
            "Average is -28.666666666666668\n"
          ]
        }
      ]
    },
    {
      "cell_type": "code",
      "source": [
        "#25\n",
        "final = 1\n",
        "n = int(input())\n",
        "for i in range(n):\n",
        "  user = int(input())\n",
        "  final = final * user\n",
        "print(final)"
      ],
      "metadata": {
        "colab": {
          "base_uri": "https://localhost:8080/"
        },
        "id": "-FwM8H7ENCvx",
        "outputId": "c4eda9e1-da78-4ea8-8334-3c9afbb29a06"
      },
      "execution_count": 16,
      "outputs": [
        {
          "output_type": "stream",
          "name": "stdout",
          "text": [
            "5\n",
            "10\n",
            "6\n",
            "4\n",
            "2\n",
            "1\n",
            "480\n"
          ]
        }
      ]
    },
    {
      "cell_type": "code",
      "source": [
        "#26\n",
        "start = int(input()) #2\n",
        "stop = int(input()) #6\n",
        "ini_count_prime = 0\n",
        "ini_sum_perfect = 0\n",
        "prime = 0\n",
        "perfect = 0\n",
        "prime_output =\"\"\n",
        "perfect_output = \"\"\n",
        "for i in range(start,stop+1,1):\n",
        "  for j in range(1,i+1,1):\n",
        "    #j=1,2\n",
        "    if i%j == 0:\n",
        "      ini_count_prime+=1\n",
        "    if j != i:\n",
        "      if i%j == 0:\n",
        "        ini_sum_perfect+=j\n",
        "  if ini_count_prime == 2:\n",
        "    prime+=1\n",
        "    prime_output+=str(i)+\" \"\n",
        "  if ini_sum_perfect == i:\n",
        "    perfect+=1\n",
        "    perfect_output+=str(i)+\" \"\n",
        "  ini_count_prime = 0\n",
        "  ini_sum_perfect = 0\n",
        "\n",
        "print(f\"Between {start} and {stop},\\nFound {prime} prime numbers\\nFound {perfect} perfect number\\nPrime numbers: {prime_output[0:len(prime_output)-1:1]}\\nPerfect numbers: {perfect_output[0:len(perfect_output)-1:1]}\")\n",
        "\n",
        "\n"
      ],
      "metadata": {
        "colab": {
          "base_uri": "https://localhost:8080/"
        },
        "id": "dyWIIl2CN1i5",
        "outputId": "5106a9e2-f182-4886-bbfe-eda7cbc97a2d"
      },
      "execution_count": 18,
      "outputs": [
        {
          "output_type": "stream",
          "name": "stdout",
          "text": [
            "2\n",
            "6\n",
            "Between 2 and 6,\n",
            "Found 3 prime numbers\n",
            "Found 1 perfect number\n",
            "Prime numbers: 2 3 5\n",
            "Perfect numbers: 6\n"
          ]
        }
      ]
    }
  ]
}