{
  "nbformat": 4,
  "nbformat_minor": 0,
  "metadata": {
    "colab": {
      "provenance": [],
      "authorship_tag": "ABX9TyOf33DtF9o0pZRTJmApJib3",
      "include_colab_link": true
    },
    "kernelspec": {
      "name": "python3",
      "display_name": "Python 3"
    },
    "language_info": {
      "name": "python"
    }
  },
  "cells": [
    {
      "cell_type": "markdown",
      "metadata": {
        "id": "view-in-github",
        "colab_type": "text"
      },
      "source": [
        "<a href=\"https://colab.research.google.com/github/turtle-shifa/CSE110/blob/main/Lab06.ipynb\" target=\"_parent\"><img src=\"https://colab.research.google.com/assets/colab-badge.svg\" alt=\"Open In Colab\"/></a>"
      ]
    },
    {
      "cell_type": "code",
      "execution_count": null,
      "metadata": {
        "colab": {
          "base_uri": "https://localhost:8080/"
        },
        "id": "xefe_fqDczaK",
        "outputId": "dc28f7b1-eb89-44e7-ceb4-d226ee4eb473"
      },
      "outputs": [
        {
          "output_type": "stream",
          "name": "stdout",
          "text": [
            "Odd!!\n"
          ]
        }
      ],
      "source": [
        "#1\n",
        "def even_checker(num):\n",
        "  if num%2 == 0:\n",
        "    print(\"Even!!\")\n",
        "  else:\n",
        "    print(\"Odd!!\")\n",
        "even_checker(5)"
      ]
    },
    {
      "cell_type": "code",
      "source": [
        "#2\n",
        "def fibonacci(num):\n",
        "  first = 0\n",
        "  second = 1\n",
        "  third = 1\n",
        "  output = str(first)+ \" \" + str(second) + \" \"\n",
        "\n",
        "  while third<num:\n",
        "    third = first + second\n",
        "    first = second\n",
        "    second = third\n",
        "    if third<=num:\n",
        "      output+=(str(third)+\" \")\n",
        "  print(output[0:-1])\n",
        "fibonacci(5)"
      ],
      "metadata": {
        "colab": {
          "base_uri": "https://localhost:8080/"
        },
        "id": "nRyjjHz3f83d",
        "outputId": "c230c8c7-2825-4164-8366-9ec91dbe8620"
      },
      "execution_count": null,
      "outputs": [
        {
          "output_type": "stream",
          "name": "stdout",
          "text": [
            "0 1 1 2 3 5\n"
          ]
        }
      ]
    },
    {
      "cell_type": "code",
      "source": [
        "#2 #Another Method Using Flag\n",
        "def fibonacci(num):\n",
        "  first = 0\n",
        "  second = 1\n",
        "  condition = True\n",
        "  output = str(first)+ \" \" + str(second) + \" \"\n",
        "\n",
        "  while condition:\n",
        "    third = first + second\n",
        "    first = second\n",
        "    second = third\n",
        "    if third<=num:\n",
        "      output+=(str(third)+\" \")\n",
        "    else:\n",
        "      condition = False\n",
        "  print(output[0:-1])\n",
        "\n",
        "fibonacci(10)"
      ],
      "metadata": {
        "colab": {
          "base_uri": "https://localhost:8080/"
        },
        "id": "BBIMwZGTj-HG",
        "outputId": "40728f1f-2ca6-4f92-e176-604c025f9d62"
      },
      "execution_count": null,
      "outputs": [
        {
          "output_type": "stream",
          "name": "stdout",
          "text": [
            "0 1 1 2 3 5 8\n"
          ]
        }
      ]
    },
    {
      "cell_type": "code",
      "source": [
        "#3\n",
        "def foo_moo(num):\n",
        "  if num % 2 == 0 and num % 3 == 0:\n",
        "    print(\"FooMoo\")\n",
        "  elif num % 2 == 0:\n",
        "    print(\"Foo\")\n",
        "  elif num % 3 == 0:\n",
        "    print(\"Moo\")\n",
        "  else:\n",
        "    print(\"Boo\")\n",
        "\n",
        "foo_moo(6)"
      ],
      "metadata": {
        "colab": {
          "base_uri": "https://localhost:8080/"
        },
        "id": "IDYsY1EckSiH",
        "outputId": "1a8065ee-b151-492b-c7f6-6e70794ef709"
      },
      "execution_count": null,
      "outputs": [
        {
          "output_type": "stream",
          "name": "stdout",
          "text": [
            "FooMoo\n"
          ]
        }
      ]
    },
    {
      "cell_type": "code",
      "source": [
        "#4\n",
        "def function_name(string):\n",
        "  upper = 0\n",
        "  lower = 0\n",
        "  for i in string:\n",
        "    if 65<=ord(i)<=90 or 97<=ord(i)<=122:\n",
        "      if i == i.upper():\n",
        "        upper+=1\n",
        "      else:\n",
        "        lower+=1\n",
        "  print(f\"No. of Uppercase characters : {upper}\\nNo. of Lowercase Characters: {lower}\")\n",
        "\n",
        "function_name(\"The quick Sand Man\")"
      ],
      "metadata": {
        "colab": {
          "base_uri": "https://localhost:8080/"
        },
        "id": "NOYyuIvKk9iY",
        "outputId": "29160757-82e0-4cf0-d3ef-51d301ef1730"
      },
      "execution_count": null,
      "outputs": [
        {
          "output_type": "stream",
          "name": "stdout",
          "text": [
            "No. of Uppercase characters : 3\n",
            "No. of Lowercase Characters: 12\n"
          ]
        }
      ]
    },
    {
      "cell_type": "code",
      "source": [
        "#5\n",
        "def calculate_tax(age,salary,position):\n",
        "  tax = 0\n",
        "  if age<18 or salary<10000 or position == \"president\":\n",
        "    pass\n",
        "  else:\n",
        "    if 10000<=salary<=20000:\n",
        "      tax+= 0.05*salary\n",
        "    else:\n",
        "      tax+= 0.1*salary\n",
        "\n",
        "  print(tax)\n",
        "\n",
        "age = int(input())\n",
        "salary = int(input())\n",
        "position = input().lower()\n",
        "\n",
        "calculate_tax(age,salary,position)"
      ],
      "metadata": {
        "id": "2IebUPApnQxr",
        "colab": {
          "base_uri": "https://localhost:8080/"
        },
        "outputId": "6106eaa9-9249-4e66-f40b-d651b3317201"
      },
      "execution_count": null,
      "outputs": [
        {
          "output_type": "stream",
          "name": "stdout",
          "text": [
            "20\n",
            "22000\n",
            "President\n",
            "0\n"
          ]
        }
      ]
    },
    {
      "cell_type": "code",
      "source": [
        "#6\n",
        "def function_name(days):\n",
        "  years = days // 365\n",
        "  days = days % 365\n",
        "  months = days // 30\n",
        "  days = days % 30\n",
        "  print(f\"{years} years, {months} months and {days} days\")\n",
        "days = int(input())\n",
        "\n",
        "function_name(days)"
      ],
      "metadata": {
        "id": "3XkDSx9AP9YX",
        "colab": {
          "base_uri": "https://localhost:8080/"
        },
        "outputId": "9de8356d-a25f-41f4-a2f6-ca70e25c3549"
      },
      "execution_count": null,
      "outputs": [
        {
          "output_type": "stream",
          "name": "stdout",
          "text": [
            "2250\n",
            "6 years, 2 months and 0 days\n"
          ]
        }
      ]
    },
    {
      "cell_type": "code",
      "source": [
        "#7\n",
        "def show_palindrome(number):\n",
        "  for i in range(1,number+1):\n",
        "    print(i,end=\"\")\n",
        "  for i in range(number-1,0,-1):\n",
        "    print(i,end=\"\")\n",
        "\n",
        "number = int(input())\n",
        "show_palindrome(number)"
      ],
      "metadata": {
        "colab": {
          "base_uri": "https://localhost:8080/"
        },
        "id": "bLF8tGEvKy_3",
        "outputId": "090b1ad1-e64c-4dd8-8606-d79bceaf44e0"
      },
      "execution_count": null,
      "outputs": [
        {
          "output_type": "stream",
          "name": "stdout",
          "text": [
            "3\n",
            "12321"
          ]
        }
      ]
    },
    {
      "cell_type": "code",
      "source": [
        "#8 #Uff\n",
        "def show_palindromic_triangle(number):\n",
        "  output = \"\"\n",
        "  for i in range(1,number+1):\n",
        "    for j in range(1,i+1):\n",
        "      if i == 1:\n",
        "        output+=str(j)\n",
        "      else:\n",
        "        output+=str(j)+\" \"\n",
        "    for k in range(i-1,0,-1):\n",
        "      if k == 1 or k == 0:\n",
        "        output+=str(k)\n",
        "      else:\n",
        "        output+=str(k)+\" \"\n",
        "    space = \" \" * ((number-i)*2)\n",
        "    if i == number:\n",
        "      print(space+output,end=\"\")\n",
        "    else:\n",
        "      print(space+output,end=\"\")\n",
        "      print(\"\")\n",
        "    output = \"\"\n",
        "\n",
        "number = int(input())\n",
        "show_palindromic_triangle(number)"
      ],
      "metadata": {
        "colab": {
          "base_uri": "https://localhost:8080/"
        },
        "id": "PA2CcpmgMuQn",
        "outputId": "f04d3e03-28ee-4941-ff77-7b567a162be2"
      },
      "execution_count": null,
      "outputs": [
        {
          "output_type": "stream",
          "name": "stdout",
          "text": [
            "5\n",
            "        1\n",
            "      1 2 1\n",
            "    1 2 3 2 1\n",
            "  1 2 3 4 3 2 1\n",
            "1 2 3 4 5 4 3 2 1"
          ]
        }
      ]
    },
    {
      "cell_type": "code",
      "source": [
        "#9 #print the function\n",
        "import math\n",
        "def area_circumference_generator(rad):\n",
        "  area = math.pi*(rad**2)\n",
        "  circumference = 2*math.pi*rad\n",
        "  return(area,circumference)\n",
        "\n",
        "rad = float(input())\n",
        "area, circumference = area_circumference_generator(rad)\n",
        "print(area_circumference_generator(rad))\n",
        "print(f\"Area of the circle is {area} and circumference is {circumference}\")"
      ],
      "metadata": {
        "colab": {
          "base_uri": "https://localhost:8080/"
        },
        "id": "GJ6VHbXHlXGT",
        "outputId": "08891a02-77c0-4e7a-aead-b9aa5d2f287d"
      },
      "execution_count": null,
      "outputs": [
        {
          "output_type": "stream",
          "name": "stdout",
          "text": [
            "1.5\n",
            "(7.0685834705770345, 9.42477796076938)\n",
            "Area of the circle is 7.0685834705770345 and circumference is 9.42477796076938\n"
          ]
        }
      ]
    },
    {
      "cell_type": "code",
      "source": [
        "#10\n",
        "def make_square(input_tuple):\n",
        "  a_dict = {}\n",
        "  for i in range(input_tuple[0],input_tuple[1]+1):\n",
        "    a_dict[i] = i**2\n",
        "  return a_dict\n",
        "\n",
        "print(make_square((1,3)))"
      ],
      "metadata": {
        "colab": {
          "base_uri": "https://localhost:8080/"
        },
        "id": "vyAR4Fe3rTtx",
        "outputId": "a3557b40-8d87-4ff1-9e43-a13f3b83abe2"
      },
      "execution_count": null,
      "outputs": [
        {
          "output_type": "stream",
          "name": "stdout",
          "text": [
            "{1: 1, 2: 4, 3: 9}\n"
          ]
        }
      ]
    },
    {
      "cell_type": "code",
      "source": [
        "#11\n",
        "def rem_duplicate(a_tuple):\n",
        "  a_list = []\n",
        "  for i in a_tuple:\n",
        "    if i not in a_list:\n",
        "      a_list.append(i)\n",
        "  return tuple(a_list)\n",
        "\n",
        "print(rem_duplicate((\"Hi\", 1, 2, 3, 3, \"Hi\",'a', 'a', [1,2])))"
      ],
      "metadata": {
        "colab": {
          "base_uri": "https://localhost:8080/"
        },
        "id": "evgpwxUEuzTw",
        "outputId": "b101d73c-45d5-411b-dff8-c4e0c0bac906"
      },
      "execution_count": null,
      "outputs": [
        {
          "output_type": "stream",
          "name": "stdout",
          "text": [
            "('Hi', 1, 2, 3, 'a', [1, 2])\n"
          ]
        }
      ]
    },
    {
      "cell_type": "code",
      "source": [
        "#12\n",
        "def function_name(a_list):\n",
        "  #[1, 2, 3, 3, 3, 3, 4, 5, 8, 8]\n",
        "  final_list = []\n",
        "  remove = 0\n",
        "  for i in a_list:\n",
        "    if final_list.count(i)<2:\n",
        "      final_list.append(i)\n",
        "    else:\n",
        "      remove+=1\n",
        "  remove,final_list = (remove,final_list)\n",
        "  return remove,final_list\n",
        "\n",
        "remove,final_list = function_name([1, 2, 3, 3, 3, 3, 4, 5, 8, 8])\n",
        "print(f\"Removed: {remove}\\n{final_list}\")"
      ],
      "metadata": {
        "colab": {
          "base_uri": "https://localhost:8080/"
        },
        "id": "ZsLoB1g7vlEz",
        "outputId": "ab69b931-610f-4852-9084-6342a3e42abb"
      },
      "execution_count": null,
      "outputs": [
        {
          "output_type": "stream",
          "name": "stdout",
          "text": [
            "Removed: 2\n",
            "[1, 2, 3, 3, 4, 5, 8, 8]\n"
          ]
        }
      ]
    },
    {
      "cell_type": "code",
      "source": [
        "#13\n",
        "def function_name(operator,num1,num2):\n",
        "  if operator == \"+\":\n",
        "    return num1 + num2\n",
        "  elif operator == \"-\":\n",
        "    return num1 - num2\n",
        "  elif operator == \"*\":\n",
        "    return num1 * num2\n",
        "  else:\n",
        "    return num1 / num2\n",
        "\n",
        "operator = input()\n",
        "num1 = float(input())\n",
        "num2 = float(input())\n",
        "\n",
        "print(function_name(operator, num1, num2))"
      ],
      "metadata": {
        "colab": {
          "base_uri": "https://localhost:8080/"
        },
        "id": "R9KdOXqHzWed",
        "outputId": "9968c841-7c86-4c01-ce24-c5bca423d848"
      },
      "execution_count": null,
      "outputs": [
        {
          "output_type": "stream",
          "name": "stdout",
          "text": [
            "*\n",
            "5.5\n",
            "2.5\n",
            "13.75\n"
          ]
        }
      ]
    },
    {
      "cell_type": "code",
      "source": [
        "#14\n",
        "def function_name(sentence,index):\n",
        "  output = sentence[0]\n",
        "  for i in range(1,len(sentence)):\n",
        "    if 65<=ord(sentence[i])<=90 or 97<=ord(sentence[i])<=122:\n",
        "      if i%3 != 0:\n",
        "        output+=sentence[i]\n",
        "    else:\n",
        "      output+=sentence[i]\n",
        "  return output\n",
        "\n",
        "sentence = input()\n",
        "index = int(input())\n",
        "print(function_name(sentence,index))"
      ],
      "metadata": {
        "colab": {
          "base_uri": "https://localhost:8080/"
        },
        "id": "B4f6XfIk1OT-",
        "outputId": "e8953823-d9f8-4cf7-fb8a-422a47e6d246"
      },
      "execution_count": null,
      "outputs": [
        {
          "output_type": "stream",
          "name": "stdout",
          "text": [
            "I love programming.\n",
            "3\n",
            "I lve prgrmmng.\n"
          ]
        }
      ]
    },
    {
      "cell_type": "code",
      "source": [
        "#15\n",
        "def function_name(food_list,location = \"Dhanmondi\"):\n",
        "  price_dict = {\"Rice\": 105, \"Potato\": 20, \"Chicken\": 250, \"Beef\": 510, \"Oil\": 85}\n",
        "  total = 0\n",
        "  for i in food_list:\n",
        "    total+=price_dict[i]\n",
        "  if location == \"dhanmondi\":\n",
        "    total+=30\n",
        "  else:\n",
        "    total+=70\n",
        "\n",
        "  return total\n",
        "\n",
        "food_list = [i[1:-1] for i in input()[1:-1].split(\", \")]\n",
        "location = input().lower()\n",
        "\n",
        "if len(location) >= 1:\n",
        "  print(function_name(food_list, location))\n",
        "else:\n",
        "  print(function_name(food_list))"
      ],
      "metadata": {
        "colab": {
          "base_uri": "https://localhost:8080/"
        },
        "id": "dt7qq-zd4Htj",
        "outputId": "4a9bd53b-41ed-44a2-d0d3-3ef1c2950bde"
      },
      "execution_count": null,
      "outputs": [
        {
          "output_type": "stream",
          "name": "stdout",
          "text": [
            "[\"Oil\"]\n",
            "Dhaka\n",
            "155\n"
          ]
        }
      ]
    },
    {
      "cell_type": "code",
      "source": [
        "#16\n",
        "# 500, 100, 50, 20, 10, 5, 2, and 1 taka notes.\n",
        "def splitting_money(amount):\n",
        "  output = \"\"\n",
        "  taka_list = [500,100,50,20,10,5,2,1]\n",
        "  for i in taka_list:\n",
        "    if (amount//i) > 0:\n",
        "      output+= f\"{i} Taka: {(amount//i)} note(s)\\n\"\n",
        "      amount = amount % i\n",
        "  return output[0:-1]\n",
        "\n",
        "amount = int(input())\n",
        "print(splitting_money(amount))"
      ],
      "metadata": {
        "id": "PofKj1lfc5Gu",
        "colab": {
          "base_uri": "https://localhost:8080/"
        },
        "outputId": "101b22e1-0a5b-44c7-fdc7-13c9c3e1648b"
      },
      "execution_count": null,
      "outputs": [
        {
          "output_type": "stream",
          "name": "stdout",
          "text": [
            "151\n",
            "100 Taka: 1 note(s)\n",
            "50 Taka: 1 note(s)\n",
            "1 Taka: 1 note(s)\n"
          ]
        }
      ]
    },
    {
      "cell_type": "code",
      "source": [
        "#17\n",
        "def remove_odd(a_list):\n",
        "  final = []\n",
        "  for i in a_list:\n",
        "    if i % 2 == 0:\n",
        "      final.append(i)\n",
        "  return final\n",
        "\n",
        "a_list = [int(i) for i in input()[1:-1].split(\",\")]\n",
        "print(remove_odd(a_list))"
      ],
      "metadata": {
        "colab": {
          "base_uri": "https://localhost:8080/"
        },
        "id": "AbHLxI7WCyCF",
        "outputId": "72aec180-2b91-457f-ae0e-afa40a3fe006"
      },
      "execution_count": null,
      "outputs": [
        {
          "output_type": "stream",
          "name": "stdout",
          "text": [
            "[11,2,3,4,5,2,0,5,3]\n",
            "[2, 4, 2, 0]\n"
          ]
        }
      ]
    },
    {
      "cell_type": "code",
      "source": [
        "#18\n",
        "def function_name(start,stop,first,second):\n",
        "  sum = 0\n",
        "  for i in range(start,stop):\n",
        "    if i%first == 0 and i%second == 0:\n",
        "      pass\n",
        "    elif i%first == 0 or i%second == 0:\n",
        "      sum+=i\n",
        "  return sum\n",
        "start = int(input())\n",
        "stop = int(input())\n",
        "first = int(input())\n",
        "second = int(input())\n",
        "\n",
        "print(function_name(start,stop,first,second))"
      ],
      "metadata": {
        "colab": {
          "base_uri": "https://localhost:8080/"
        },
        "id": "mBT0JEofC_EW",
        "outputId": "1fdbbafa-787f-428a-8147-25329771b4ef"
      },
      "execution_count": null,
      "outputs": [
        {
          "output_type": "stream",
          "name": "stdout",
          "text": [
            "10\n",
            "40\n",
            "4\n",
            "7\n",
            "210\n"
          ]
        }
      ]
    },
    {
      "cell_type": "code",
      "source": [
        "#19\n",
        "def function_name(string):\n",
        "  a_j = []\n",
        "  for i in range(97,107):\n",
        "    a_j.append(chr(i))\n",
        "  for i in a_j:\n",
        "    if i in string:\n",
        "      return 5\n",
        "    else:\n",
        "      return 6\n",
        "\n",
        "string = input()\n",
        "for i in range(function_name(string)):\n",
        "  print(\"Chelsea is the best club in England\")\n"
      ],
      "metadata": {
        "colab": {
          "base_uri": "https://localhost:8080/"
        },
        "id": "esMpjLSEPapY",
        "outputId": "a30342e8-b365-46d1-d17f-e6ee9fd94102"
      },
      "execution_count": null,
      "outputs": [
        {
          "output_type": "stream",
          "name": "stdout",
          "text": [
            "ABBCDEFEFGHI\n",
            "Chelsea is the best club in England\n",
            "Chelsea is the best club in England\n",
            "Chelsea is the best club in England\n",
            "Chelsea is the best club in England\n",
            "Chelsea is the best club in England\n",
            "Chelsea is the best club in England\n"
          ]
        }
      ]
    },
    {
      "cell_type": "code",
      "source": [
        "#20\n",
        "def cal_bonus(*args):\n",
        "  for i in range(len(args)):\n",
        "    if i % 4 == 0:\n",
        "      if args[i+2]>30:\n",
        "        cal = int(args[i+2] * (args[i+3] / 100 * args[i+1]) + 10000)\n",
        "        print(f\"{args[i]} earned a bonus of {cal} Taka for {args[i+2]} goals.\")\n",
        "      elif 20<=args[i+2]<=30:\n",
        "        cal = int(args[i+2] * (args[i+3] / 100 * args[i+1]) + 5000)\n",
        "        print(f\"{args[i]} earned a bonus of {cal} Taka for {args[i+2]} goals.\")\n",
        "      else:\n",
        "        cal = int(args[i+2] * (args[i+3] / 100 * args[i+1]))\n",
        "        print(f\"{args[i]} earned a bonus of {cal} Taka for {args[i+2]} goals.\")\n",
        "\n",
        "cal_bonus(\"Neymar\", 1200000, 30, 10, \"Jamal\", 700000, 19, 5)"
      ],
      "metadata": {
        "colab": {
          "base_uri": "https://localhost:8080/"
        },
        "id": "GXnFWhLh3oUY",
        "outputId": "cd59b933-614e-43bf-b039-6854f8dd9eca"
      },
      "execution_count": 3,
      "outputs": [
        {
          "output_type": "stream",
          "name": "stdout",
          "text": [
            "Neymar earned a bonus of 3605000 Taka for 30 goals.\n",
            "Jamal earned a bonus of 665000 Taka for 19 goals.\n"
          ]
        }
      ]
    }
  ]
}