{
  "nbformat": 4,
  "nbformat_minor": 0,
  "metadata": {
    "colab": {
      "provenance": [],
      "authorship_tag": "ABX9TyNanYDMvQnlYk60GxP0dgI/",
      "include_colab_link": true
    },
    "kernelspec": {
      "name": "python3",
      "display_name": "Python 3"
    },
    "language_info": {
      "name": "python"
    }
  },
  "cells": [
    {
      "cell_type": "markdown",
      "metadata": {
        "id": "view-in-github",
        "colab_type": "text"
      },
      "source": [
        "<a href=\"https://colab.research.google.com/github/turtle-shifa/CSE110/blob/main/Lab05.ipynb\" target=\"_parent\"><img src=\"https://colab.research.google.com/assets/colab-badge.svg\" alt=\"Open In Colab\"/></a>"
      ]
    },
    {
      "cell_type": "code",
      "execution_count": null,
      "metadata": {
        "colab": {
          "base_uri": "https://localhost:8080/"
        },
        "id": "1OfJPDyKWl_U",
        "outputId": "ebf479ce-5b96-437c-84a6-4a0c857019d0"
      },
      "outputs": [
        {
          "output_type": "stream",
          "name": "stdout",
          "text": [
            "400\n"
          ]
        }
      ],
      "source": [
        "#1\n",
        "a_tuple = (\"The Institute\",\n",
        "(\"Best Mystery & Thriller\", \"The Silent Patient\", 68821),\n",
        "75717,\n",
        "[1, 2, 3, 400, 5, 6, 7],\n",
        "(\"Best Fiction\", \"The Testaments\", 98291)\n",
        ")\n",
        "print(a_tuple[3][3])"
      ]
    },
    {
      "cell_type": "code",
      "source": [
        "#2\n",
        "a_tuple = tuple(int(i) for i in input()[1:-1].split(\", \"))\n",
        "#print(a_tuple[2:-2]) #You can use this also\n",
        "print(a_tuple[2:len(a_tuple)-2])"
      ],
      "metadata": {
        "colab": {
          "base_uri": "https://localhost:8080/"
        },
        "id": "EzKg0GSBW2s8",
        "outputId": "8a5b905d-4adc-4db9-f945-5834f7696a34"
      },
      "execution_count": null,
      "outputs": [
        {
          "output_type": "stream",
          "name": "stdout",
          "text": [
            "(-10, 20, 25, 30, 40)\n",
            "(25,)\n"
          ]
        }
      ]
    },
    {
      "cell_type": "code",
      "source": [
        "#3\n",
        "book_info = (\n",
        "(\"Best Mystery & Thriller\",\"The Silent Patient\",68,821),\n",
        "(\"Best Horror\",\"The Institute\",75,717),\n",
        "(\"Best History & Biography\",\"The five\",31,783 ),\n",
        "(\"Best Fiction\",\"The Testaments\",98,291)\n",
        ")\n",
        "print(f\"Size of the tuple is: {len(book_info)}\")\n",
        "for i in book_info:\n",
        "  print(i)\n"
      ],
      "metadata": {
        "colab": {
          "base_uri": "https://localhost:8080/"
        },
        "id": "JzI6hT5gYBF6",
        "outputId": "1fd121bc-ebf2-4957-e2cc-b53acb9dd847"
      },
      "execution_count": null,
      "outputs": [
        {
          "output_type": "stream",
          "name": "stdout",
          "text": [
            "Size of the tuple is: 4\n",
            "('Best Mystery & Thriller', 'The Silent Patient', 68, 821)\n",
            "('Best Horror', 'The Institute', 75, 717)\n",
            "('Best History & Biography', 'The five', 31, 783)\n",
            "('Best Fiction', 'The Testaments', 98, 291)\n"
          ]
        }
      ]
    },
    {
      "cell_type": "code",
      "source": [
        "#4\n",
        "book_info = (\n",
        "(\"Best Mystery & Thriller\",\"The Silent Patient\",68821),\n",
        "(\"Best Horror\",\"The Institute\",75717),\n",
        "(\"Best History & Biography\",\"The five\",31783 ),\n",
        "(\"Best Fiction\",\"The Testaments\",98291)\n",
        ")\n",
        "for i in range(len(book_info)):\n",
        "  print(f\"{book_info[i][1]} won the '{book_info[i][0]}' category with {book_info[i][2]} votes\")"
      ],
      "metadata": {
        "colab": {
          "base_uri": "https://localhost:8080/"
        },
        "id": "y6lofiFWYgAx",
        "outputId": "d550a3c9-21f1-4801-eb75-e2030741a54e"
      },
      "execution_count": null,
      "outputs": [
        {
          "output_type": "stream",
          "name": "stdout",
          "text": [
            "The Silent Patient won the 'Best Mystery & Thriller' category with 68821 votes\n",
            "The Institute won the 'Best Horror' category with 75717 votes\n",
            "The five won the 'Best History & Biography' category with 31783 votes\n",
            "The Testaments won the 'Best Fiction' category with 98291 votes\n"
          ]
        }
      ]
    },
    {
      "cell_type": "code",
      "source": [
        "#5\n",
        "a_tuple = tuple(int(i) for i in input()[1:-1].split(\", \"))\n",
        "user = int(input())\n",
        "count = 0\n",
        "for i in a_tuple:\n",
        "  if i==user:\n",
        "    count+=1\n",
        "print(f\"{user} appears {count} times in the tuple\")"
      ],
      "metadata": {
        "colab": {
          "base_uri": "https://localhost:8080/"
        },
        "id": "DmhkBQMlZkFq",
        "outputId": "e36ebf64-fbdd-45cc-c546-a78e14bf4e63"
      },
      "execution_count": null,
      "outputs": [
        {
          "output_type": "stream",
          "name": "stdout",
          "text": [
            "(10, 8, 5, 2, 10, 15, 10, 8, 5, 8, 8, 2)\n",
            "8\n",
            "8 appears 4 times in the tuple\n"
          ]
        }
      ]
    },
    {
      "cell_type": "code",
      "source": [
        "#5 Using Function\n",
        "a_tuple = tuple(int(i) for i in input()[1:-1].split(\", \"))\n",
        "user = int(input())\n",
        "print(a_tuple.count(user)) #Format this"
      ],
      "metadata": {
        "colab": {
          "base_uri": "https://localhost:8080/"
        },
        "id": "7RS0piglaI93",
        "outputId": "6d43c2a5-378e-4846-8b15-70acbbc0d243"
      },
      "execution_count": null,
      "outputs": [
        {
          "output_type": "stream",
          "name": "stdout",
          "text": [
            "(10, 8, 5, 2, 10, 15, 10, 8, 5, 8, 8, 2)\n",
            "8\n",
            "4\n"
          ]
        }
      ]
    },
    {
      "cell_type": "code",
      "source": [
        "#6\n",
        "a_tuple = tuple(i[1:-1] for i in input()[1:-1].split(\", \"))\n",
        "print(a_tuple[::-1])"
      ],
      "metadata": {
        "colab": {
          "base_uri": "https://localhost:8080/"
        },
        "id": "lNAwdMJVaXq-",
        "outputId": "ef3fc60c-9621-4b4d-d1d7-bcf0ee7343eb"
      },
      "execution_count": null,
      "outputs": [
        {
          "output_type": "stream",
          "name": "stdout",
          "text": [
            "('a', 'b', 'c', 'd', 'e', 'f', 'g', 'h')\n",
            "('h', 'g', 'f', 'e', 'd', 'c', 'b', 'a')\n"
          ]
        }
      ]
    },
    {
      "cell_type": "code",
      "source": [
        "#7\n",
        "dict1 = {'Harry':15, 'Draco':8, 'Nevil':19}\n",
        "dict2 = {'Ginie':18, 'Luna': 14}\n",
        "dict1.update(dict2)\n",
        "print(dict1)"
      ],
      "metadata": {
        "colab": {
          "base_uri": "https://localhost:8080/"
        },
        "id": "Ik_gyL0faq-w",
        "outputId": "c0d81f55-ee0c-4a35-af58-3540fae31afc"
      },
      "execution_count": null,
      "outputs": [
        {
          "output_type": "stream",
          "name": "stdout",
          "text": [
            "{'Harry': 15, 'Draco': 8, 'Nevil': 19, 'Ginie': 18, 'Luna': 14}\n"
          ]
        }
      ]
    },
    {
      "cell_type": "code",
      "source": [
        "#8\n",
        "user = input()\n",
        "#{'Harry':15, 'Draco':8, Nevil':19}\n",
        "step_1 = ''.join(i for i in user if i not in [\"{\",\"}\",\"'\"])\n",
        "step_2 = step_1.split(\", \")\n",
        "amount = 0\n",
        "for i in step_2:\n",
        "  for j in range(len(i)):\n",
        "    if i[j] == \":\":\n",
        "      amount+=int(i[j+1:])\n",
        "print(amount//len(step_2))"
      ],
      "metadata": {
        "colab": {
          "base_uri": "https://localhost:8080/"
        },
        "id": "yPvHF6jYbDAx",
        "outputId": "41b05445-5def-4b51-b61f-d4d5408f0f63"
      },
      "execution_count": 17,
      "outputs": [
        {
          "output_type": "stream",
          "name": "stdout",
          "text": [
            "{'Jon': 100, 'Dan':200, 'Rob':30, 'Ned':110}\n",
            "110\n"
          ]
        }
      ]
    },
    {
      "cell_type": "code",
      "source": [
        "name = \"Barack (of Washington)\"\n",
        "# name = name.strip(\"(){}<>\") #Don't Work\n",
        "name = ''.join(x for x in name if x not in \"{}()\")\n",
        "print(name)"
      ],
      "metadata": {
        "colab": {
          "base_uri": "https://localhost:8080/"
        },
        "id": "9i1vEcJVd3HP",
        "outputId": "c938b2a2-b75f-45a9-94d3-8a0bc8546e1f"
      },
      "execution_count": 5,
      "outputs": [
        {
          "output_type": "stream",
          "name": "stdout",
          "text": [
            "Barack of Washington\n"
          ]
        }
      ]
    },
    {
      "cell_type": "code",
      "source": [
        "#9\n",
        "exam_marks = {'Cierra Vega': 175, 'Alden Cantrell': 200, 'Kierra Gentry': 165, 'Pierre Cox': 190}\n",
        "number = int(input())\n",
        "new_dict = {}\n",
        "for key,value in exam_marks.items():\n",
        "  if value>number:\n",
        "    new_dict[key] = value\n",
        "print(new_dict)"
      ],
      "metadata": {
        "colab": {
          "base_uri": "https://localhost:8080/"
        },
        "id": "x2JiCL1viT3h",
        "outputId": "e91ca2ad-99e8-44e9-bef9-8fd6ec861d63"
      },
      "execution_count": 18,
      "outputs": [
        {
          "output_type": "stream",
          "name": "stdout",
          "text": [
            "170\n",
            "{'Cierra Vega': 175, 'Alden Cantrell': 200, 'Pierre Cox': 190}\n"
          ]
        }
      ]
    },
    {
      "cell_type": "code",
      "source": [
        "#10\n",
        "a_dict = {'sci fi': 12, 'mystery': 15, 'horror': 8, 'mythology': 10, 'young_adult': 4, 'adventure':14}\n",
        "max = 0\n",
        "for key,value in a_dict.items():\n",
        "  if value>=max:\n",
        "    max = value\n",
        "    category = key\n",
        "print(f\"The highest selling book genre is '{category}' and the number of books sold are {max}.\")"
      ],
      "metadata": {
        "colab": {
          "base_uri": "https://localhost:8080/"
        },
        "id": "WgPdUpFtjPVV",
        "outputId": "84430c4d-e717-4558-8e81-823d95361797"
      },
      "execution_count": 19,
      "outputs": [
        {
          "output_type": "stream",
          "name": "stdout",
          "text": [
            "The highest selling book genre is 'mystery' and the number of books sold are 15.\n"
          ]
        }
      ]
    },
    {
      "cell_type": "code",
      "source": [
        "#11\n",
        "user = ''.join(i for i in input().lower() if i not in \" \")\n",
        "#\"Python programming is fun\"\n",
        "a_dict ={}\n",
        "\n",
        "for i in user:\n",
        "  if i not in a_dict:\n",
        "    a_dict[i]=user.count(i)\n",
        "print(a_dict)"
      ],
      "metadata": {
        "colab": {
          "base_uri": "https://localhost:8080/"
        },
        "id": "6R6zf3ZOj30A",
        "outputId": "d1ef7c26-2b27-4b66-c5d0-2d8b3be0f12f"
      },
      "execution_count": 21,
      "outputs": [
        {
          "output_type": "stream",
          "name": "stdout",
          "text": [
            "Python programming is fun\n",
            "{'p': 2, 'y': 1, 't': 1, 'h': 1, 'o': 2, 'n': 3, 'r': 2, 'g': 2, 'a': 1, 'm': 2, 'i': 2, 's': 1, 'f': 1, 'u': 1}\n"
          ]
        }
      ]
    },
    {
      "cell_type": "code",
      "source": [
        "#11 #Ektu Jotil Cinta kori\n",
        "user = ''.join(i for i in input().lower() if i not in \" \")\n",
        "#\"Python programming is fun\"\n",
        "a_dict ={}\n",
        "\n",
        "for i in user:\n",
        "  if i in a_dict:\n",
        "    a_dict[i]+=1\n",
        "  else:\n",
        "    a_dict[i] = 1\n",
        "print(a_dict)"
      ],
      "metadata": {
        "colab": {
          "base_uri": "https://localhost:8080/"
        },
        "id": "rRokkAmKkylh",
        "outputId": "18cad1a7-ceb9-494e-a2c2-2bd2099ec61f"
      },
      "execution_count": 22,
      "outputs": [
        {
          "output_type": "stream",
          "name": "stdout",
          "text": [
            "Python programming is fun\n",
            "{'p': 2, 'y': 1, 't': 1, 'h': 1, 'o': 2, 'n': 3, 'r': 2, 'g': 2, 'a': 1, 'm': 2, 'i': 2, 's': 1, 'f': 1, 'u': 1}\n"
          ]
        }
      ]
    },
    {
      "cell_type": "code",
      "source": [
        "#12\n",
        "dict1 = {'A': [1, 2, 3], 'b': ['1', '2'], \"c\": [4, 5, 6, 7]}\n",
        "count = 0\n",
        "for key,value in dict1.items():\n",
        "  for i in value:\n",
        "    count+=1\n",
        "\n",
        "print(count)"
      ],
      "metadata": {
        "colab": {
          "base_uri": "https://localhost:8080/"
        },
        "id": "vf5q27ixlRg7",
        "outputId": "c945f2f5-e240-4429-fd08-88b61b559a13"
      },
      "execution_count": 23,
      "outputs": [
        {
          "output_type": "stream",
          "name": "stdout",
          "text": [
            "9\n"
          ]
        }
      ]
    },
    {
      "cell_type": "code",
      "source": [
        "#13\n",
        "a_list = [(\"a\", 1), (\"b\", 2), (\"a\", 3), (\"b\", 1), (\"a\", 2), (\"c\", 1)]\n",
        "a_dict = {}\n",
        "\n",
        "for i in a_list:\n",
        "  if i[0] not in a_dict:\n",
        "    a_dict[i[0]] = [i[1]]\n",
        "  else:\n",
        "    a_dict[i[0]].append(i[1])\n",
        "print(a_dict)"
      ],
      "metadata": {
        "colab": {
          "base_uri": "https://localhost:8080/"
        },
        "id": "WpPSABjPltfi",
        "outputId": "7dbcbe84-ed74-4fd4-80c1-e3596c322e02"
      },
      "execution_count": 24,
      "outputs": [
        {
          "output_type": "stream",
          "name": "stdout",
          "text": [
            "{'a': [1, 3, 2], 'b': [2, 1], 'c': [1]}\n"
          ]
        }
      ]
    },
    {
      "cell_type": "code",
      "source": [
        "#14\n",
        "a_list = [(2, 3), (4, 5), (6, 7), (2, 8)]\n",
        "output = []\n",
        "for i in a_list:\n",
        "  output.append(i[0]*i[1])\n",
        "print(output)"
      ],
      "metadata": {
        "colab": {
          "base_uri": "https://localhost:8080/"
        },
        "id": "kZ4r917vmfxB",
        "outputId": "6eb6a83a-30b3-47fa-f64e-06887bbc2add"
      },
      "execution_count": 25,
      "outputs": [
        {
          "output_type": "stream",
          "name": "stdout",
          "text": [
            "[6, 20, 42, 16]\n"
          ]
        }
      ]
    },
    {
      "cell_type": "code",
      "source": [
        "#15\n",
        "a_tuple = ([1, 2, 3], [4, 5, 6], [7, 8, 9], [10, 11, 12])\n",
        "user = input()\n",
        "for i in a_tuple:\n",
        "  i[-1] = user\n",
        "print(a_tuple)"
      ],
      "metadata": {
        "colab": {
          "base_uri": "https://localhost:8080/"
        },
        "id": "0A8WTLSonQqq",
        "outputId": "63c5a804-af65-45c5-edc0-7f0fa72ed57c"
      },
      "execution_count": 26,
      "outputs": [
        {
          "output_type": "stream",
          "name": "stdout",
          "text": [
            "abc\n",
            "([1, 2, 'abc'], [4, 5, 'abc'], [7, 8, 'abc'], [10, 11, 'abc'])\n"
          ]
        }
      ]
    },
    {
      "cell_type": "code",
      "source": [
        "#16\n",
        "my_dictionary = {'c1':'Red', 'c2':'Green', 'c3':None, 'd4':'Blue', 'a5':None}\n",
        "new_dict = {}\n",
        "\n",
        "for key,value in my_dictionary.items():\n",
        "  if value!=None:\n",
        "    new_dict[key] = value\n",
        "print(new_dict)"
      ],
      "metadata": {
        "colab": {
          "base_uri": "https://localhost:8080/"
        },
        "id": "17s50oeNnpR8",
        "outputId": "e3fd0146-4245-44db-c31d-83ba725f789f"
      },
      "execution_count": 28,
      "outputs": [
        {
          "output_type": "stream",
          "name": "stdout",
          "text": [
            "{'c1': 'Red', 'c2': 'Green', 'd4': 'Blue'}\n"
          ]
        }
      ]
    },
    {
      "cell_type": "code",
      "source": [
        "#17\n",
        "dictionary = {'a' : 6, 'b' : 7, 'c' : 9, 'd' : 8, 'e' : 11, 'f' : 12, 'g' : 13}\n",
        "lower = int(input())\n",
        "upper = int(input())\n",
        "new_dict = {}\n",
        "for key,value in dictionary.items():\n",
        "  if value>=lower and value<upper:\n",
        "    new_dict[key] = value\n",
        "print(new_dict)"
      ],
      "metadata": {
        "colab": {
          "base_uri": "https://localhost:8080/"
        },
        "id": "HjDF2qVwoDfg",
        "outputId": "fec4ed8e-02f1-4106-fa23-fbb6077df832"
      },
      "execution_count": 29,
      "outputs": [
        {
          "output_type": "stream",
          "name": "stdout",
          "text": [
            "9\n",
            "12\n",
            "{'c': 9, 'e': 11}\n"
          ]
        }
      ]
    },
    {
      "cell_type": "code",
      "source": [
        "#18\n",
        "a_list = [(20, 'Sad'), (31, 'Sad'), (88, 'NotSad'), (27, 'NotSad')]\n",
        "new_dict = {}\n",
        "\n",
        "for i in a_list:\n",
        "  if i[1] not in new_dict:\n",
        "    new_dict[i[1]] = [i]\n",
        "  else:\n",
        "    new_dict[i[1]].append(i)\n",
        "print(new_dict)"
      ],
      "metadata": {
        "colab": {
          "base_uri": "https://localhost:8080/"
        },
        "id": "VP1ZMVCDo1FA",
        "outputId": "f4a9500a-c76f-4c6f-c68d-447ce5bf7d9e"
      },
      "execution_count": 31,
      "outputs": [
        {
          "output_type": "stream",
          "name": "stdout",
          "text": [
            "{'Sad': [(20, 'Sad'), (31, 'Sad')], 'NotSad': [(88, 'NotSad'), (27, 'NotSad')]}\n"
          ]
        }
      ]
    }
  ]
}